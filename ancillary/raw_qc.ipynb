{
 "cells": [
  {
   "cell_type": "markdown",
   "metadata": {},
   "source": [
    "# Raw data quality control\n",
    "\n",
    "This notebook evaluates raw station data for the quality issues of duplicate stations, missing names, and spurious spikes/dips in the data. \n",
    "\n",
    "Instead of encapsulating these tasks in a pipeline script, this script is designed to be called from the pipeline to \n",
    "\n",
    "1) render a human-readable and reproducible document that describes the initial quality control steps taken  \n",
    "2) produce ancillary data for both pipeline and app ingest to implement quality control steps."
   ]
  },
  {
   "cell_type": "markdown",
   "metadata": {},
   "source": [
    "## Duplicate / nearby stations\n",
    "\n",
    "One issue that we have seen is the possibility of duplicate stations. Check for unusually small distances between airports and investigate."
   ]
  },
  {
   "cell_type": "code",
   "execution_count": 1,
   "metadata": {},
   "outputs": [],
   "source": [
    "import os, glob, itertools\n",
    "import matplotlib.pyplot as plt\n",
    "import numpy as np\n",
    "import pandas as pd\n",
    "from IPython.display import display, HTML\n",
    "from pathlib import Path\n",
    "from scipy.spatial.distance import pdist\n",
    "from scipy.signal import find_peaks\n",
    "\n",
    "base_dir = Path(os.getenv(\"BASE_DIR\"))\n",
    "airport_meta = pd.read_csv(base_dir.joinpath(\"airport_meta.csv\"))\n",
    "\n",
    "# compute pairwise distances between all sites (rows), populate\n",
    "# data frame with correct sids\n",
    "coordinates = airport_meta[[\"sid\", \"lat\", \"lon\"]].set_index(\"sid\").drop_duplicates()\n",
    "dists = pdist(coordinates.values)\n",
    "ij_list = list(itertools.combinations(np.arange(coordinates.index.size), 2))\n",
    "idx1 = np.array([ij[0] for ij in ij_list])\n",
    "idx2 = np.array([ij[1] for ij in ij_list])\n",
    "dist_df = pd.DataFrame({\n",
    "    \"sid1\": coordinates.index[idx1], \n",
    "    \"sid2\": coordinates.index[idx2], \n",
    "    \"dist\": dists\n",
    "})\n",
    "# same site comparison is artifact of distance computation\n",
    "dist_df = dist_df[dist_df[\"sid1\"] != dist_df[\"sid2\"]]\n",
    "# ignore large distances\n",
    "dist_df = dist_df[dist_df[\"dist\"] < 0.1].sort_values(\"dist\")"
   ]
  },
  {
   "cell_type": "markdown",
   "metadata": {},
   "source": [
    "Here are the closest stations provided by the IEM ASOS station metadata: "
   ]
  },
  {
   "cell_type": "code",
   "execution_count": 4,
   "metadata": {},
   "outputs": [
    {
     "data": {
      "text/html": [
       "<table border=\"1\" class=\"dataframe\">\n",
       "  <thead>\n",
       "    <tr style=\"text-align: right;\">\n",
       "      <th>sid1</th>\n",
       "      <th>sid2</th>\n",
       "      <th>dist</th>\n",
       "    </tr>\n",
       "  </thead>\n",
       "  <tbody>\n",
       "    <tr>\n",
       "      <td>PADG</td>\n",
       "      <td>PARD</td>\n",
       "      <td>0.003936</td>\n",
       "    </tr>\n",
       "    <tr>\n",
       "      <td>PACE</td>\n",
       "      <td>PARL</td>\n",
       "      <td>0.005284</td>\n",
       "    </tr>\n",
       "    <tr>\n",
       "      <td>PAFL</td>\n",
       "      <td>PAFK</td>\n",
       "      <td>0.015772</td>\n",
       "    </tr>\n",
       "    <tr>\n",
       "      <td>PAHL</td>\n",
       "      <td>PAHS</td>\n",
       "      <td>0.032012</td>\n",
       "    </tr>\n",
       "    <tr>\n",
       "      <td>PANC</td>\n",
       "      <td>PALH</td>\n",
       "      <td>0.061644</td>\n",
       "    </tr>\n",
       "    <tr>\n",
       "      <td>PAED</td>\n",
       "      <td>PAMR</td>\n",
       "      <td>0.061685</td>\n",
       "    </tr>\n",
       "    <tr>\n",
       "      <td>PANT</td>\n",
       "      <td>PAMM</td>\n",
       "      <td>0.088449</td>\n",
       "    </tr>\n",
       "  </tbody>\n",
       "</table>"
      ],
      "text/plain": [
       "<IPython.core.display.HTML object>"
      ]
     },
     "metadata": {},
     "output_type": "display_data"
    }
   ],
   "source": [
    "display(HTML(dist_df.to_html(index=False)))"
   ]
  },
  {
   "cell_type": "markdown",
   "metadata": {},
   "source": [
    "Some of these are indeed separate airports that are just close:\n",
    "* PANT (Annette Island Airport), PAMM (Metlaktla Seaplane Base)\n",
    "* PAED (Elmendorf AFB), PAMR (Merrill Field)\n",
    "* PANC (Ted Stevens Anchorage International), PALH (Lake Hood Seaplane Base)"
   ]
  },
  {
   "cell_type": "markdown",
   "metadata": {},
   "source": [
    "The others require investigation:\n",
    "\n",
    "#### PAHL, PAHS\n",
    "\n",
    "Here are the metadata entries for these:"
   ]
  },
  {
   "cell_type": "code",
   "execution_count": 5,
   "metadata": {},
   "outputs": [
    {
     "data": {
      "text/html": [
       "<table border=\"1\" class=\"dataframe\">\n",
       "  <thead>\n",
       "    <tr style=\"text-align: right;\">\n",
       "      <th>sid</th>\n",
       "      <th>station_name</th>\n",
       "      <th>lat</th>\n",
       "      <th>lon</th>\n",
       "      <th>elev</th>\n",
       "      <th>begints</th>\n",
       "      <th>rw_name</th>\n",
       "      <th>rw_heading</th>\n",
       "      <th>faa_id</th>\n",
       "      <th>real_name</th>\n",
       "    </tr>\n",
       "  </thead>\n",
       "  <tbody>\n",
       "    <tr>\n",
       "      <td>PAHL</td>\n",
       "      <td>Huslia</td>\n",
       "      <td>65.69786</td>\n",
       "      <td>-156.35139</td>\n",
       "      <td>67.0</td>\n",
       "      <td>1999-01-31 22:20:00-06</td>\n",
       "      <td>Runway 3/21</td>\n",
       "      <td>51.0</td>\n",
       "      <td>HLA</td>\n",
       "      <td>Huslia Airport</td>\n",
       "    </tr>\n",
       "    <tr>\n",
       "      <td>PAHS</td>\n",
       "      <td>HUSLIA</td>\n",
       "      <td>65.70000</td>\n",
       "      <td>-156.38333</td>\n",
       "      <td>55.0</td>\n",
       "      <td>1994-01-02 20:00:00-06</td>\n",
       "      <td>NaN</td>\n",
       "      <td>NaN</td>\n",
       "      <td>NaN</td>\n",
       "      <td>NaN</td>\n",
       "    </tr>\n",
       "  </tbody>\n",
       "</table>"
      ],
      "text/plain": [
       "<IPython.core.display.HTML object>"
      ]
     },
     "metadata": {},
     "output_type": "display_data"
    }
   ],
   "source": [
    "display(HTML(airport_meta[airport_meta[\"sid\"].isin([\"PAHL\", \"PAHS\"])].to_html(index=False)))"
   ]
  },
  {
   "cell_type": "markdown",
   "metadata": {},
   "source": [
    "AirNav.com didn't have any entry for PAHS. Explore the extent of data for each by plotting the monthly averages over time:"
   ]
  },
  {
   "cell_type": "code",
   "execution_count": 6,
   "metadata": {},
   "outputs": [
    {
     "data": {
      "image/png": "[encoded data removed]",
      "text/plain": [
       "<Figure size 432x288 with 1 Axes>"
      ]
     },
     "metadata": {
      "needs_background": "light"
     },
     "output_type": "display_data"
    }
   ],
   "source": [
    "raw_dir = base_dir.joinpath(\"raw/iem\")\n",
    "pahl = pd.read_csv(list(raw_dir.glob(\"*PAHL*\"))[0], na_values=\"M\")\n",
    "pahs = pd.read_csv(list(raw_dir.glob(\"*PAHS*\"))[0], na_values=\"M\")\n",
    "\n",
    "df = pahl.merge(pahs, \"outer\", [\"valid\", \"station\"]).rename(columns={\"sped_x\": \"PAHL speed\", \"sped_y\": \"PAHS speed\"})\n",
    "df[\"valid\"] = pd.to_datetime(df[\"valid\"].values)\n",
    "df[\"my\"] = df[\"valid\"].dt.to_period('M')\n",
    "\n",
    "df.groupby([\"station\", \"my\"]).mean().reset_index().plot(x=\"my\", y=[\"PAHL speed\", \"PAHS speed\"], xlabel=\"Year\")\n",
    "plt.show()"
   ]
  },
  {
   "cell_type": "markdown",
   "metadata": {},
   "source": [
    "So, PAHS had an earlier start, but the time series do not match, so this is likely not from the exact same location. Consider them separately for further analysis. Since PAHS doesn't have enough data to include in the app under current requirements, just exclude this ID from further processing. "
   ]
  },
  {
   "cell_type": "code",
   "execution_count": 7,
   "metadata": {},
   "outputs": [],
   "source": [
    "discard = []\n",
    "discard.append(\"PAHS\")"
   ]
  },
  {
   "cell_type": "markdown",
   "metadata": {},
   "source": [
    "#### PAFL, PAFK\n",
    "\n",
    "Metadata entries:"
   ]
  },
  {
   "cell_type": "code",
   "execution_count": 8,
   "metadata": {},
   "outputs": [
    {
     "data": {
      "text/html": [
       "<table border=\"1\" class=\"dataframe\">\n",
       "  <thead>\n",
       "    <tr style=\"text-align: right;\">\n",
       "      <th>sid</th>\n",
       "      <th>station_name</th>\n",
       "      <th>lat</th>\n",
       "      <th>lon</th>\n",
       "      <th>elev</th>\n",
       "      <th>begints</th>\n",
       "      <th>rw_name</th>\n",
       "      <th>rw_heading</th>\n",
       "      <th>faa_id</th>\n",
       "      <th>real_name</th>\n",
       "    </tr>\n",
       "  </thead>\n",
       "  <tbody>\n",
       "    <tr>\n",
       "      <td>PAFL</td>\n",
       "      <td>Farewell</td>\n",
       "      <td>62.5316</td>\n",
       "      <td>-153.6111</td>\n",
       "      <td>395.0</td>\n",
       "      <td>2015-04-04 21:47:00-05</td>\n",
       "      <td>Runway 13/31</td>\n",
       "      <td>NaN</td>\n",
       "      <td>TNW</td>\n",
       "      <td>Tin Creek Airport</td>\n",
       "    </tr>\n",
       "    <tr>\n",
       "      <td>PAFK</td>\n",
       "      <td>FAREWELL LAKE SEAPLANE</td>\n",
       "      <td>62.5425</td>\n",
       "      <td>-153.6225</td>\n",
       "      <td>321.0</td>\n",
       "      <td>1948-07-01 05:00:00-05</td>\n",
       "      <td>Runway NW/SE</td>\n",
       "      <td>NaN</td>\n",
       "      <td>FKK</td>\n",
       "      <td>Farewell Lake Seaplane Base</td>\n",
       "    </tr>\n",
       "  </tbody>\n",
       "</table>"
      ],
      "text/plain": [
       "<IPython.core.display.HTML object>"
      ]
     },
     "metadata": {},
     "output_type": "display_data"
    }
   ],
   "source": [
    "display(HTML(airport_meta[airport_meta[\"sid\"].isin([\"PAFL\", \"PAFK\"])].to_html(index=False)))"
   ]
  },
  {
   "cell_type": "markdown",
   "metadata": {},
   "source": [
    "External investigation reveals these are just near each other, one being a seaplane base and the other being a typical airport. Ignore for now."
   ]
  },
  {
   "cell_type": "markdown",
   "metadata": {},
   "source": [
    "#### PACE, PARL\n",
    "\n",
    "Metadata entries:"
   ]
  },
  {
   "cell_type": "code",
   "execution_count": 9,
   "metadata": {},
   "outputs": [
    {
     "data": {
      "text/html": [
       "<table border=\"1\" class=\"dataframe\">\n",
       "  <thead>\n",
       "    <tr style=\"text-align: right;\">\n",
       "      <th>sid</th>\n",
       "      <th>station_name</th>\n",
       "      <th>lat</th>\n",
       "      <th>lon</th>\n",
       "      <th>elev</th>\n",
       "      <th>begints</th>\n",
       "      <th>rw_name</th>\n",
       "      <th>rw_heading</th>\n",
       "      <th>faa_id</th>\n",
       "      <th>real_name</th>\n",
       "    </tr>\n",
       "  </thead>\n",
       "  <tbody>\n",
       "    <tr>\n",
       "      <td>PACE</td>\n",
       "      <td>Central</td>\n",
       "      <td>65.57394</td>\n",
       "      <td>-144.78089</td>\n",
       "      <td>286.0</td>\n",
       "      <td>1948-07-01 07:00:00-05</td>\n",
       "      <td>Runway 8/26</td>\n",
       "      <td>103.0</td>\n",
       "      <td>CEM</td>\n",
       "      <td>Central Airport</td>\n",
       "    </tr>\n",
       "    <tr>\n",
       "      <td>PARL</td>\n",
       "      <td>CENTRAL AIRPORT</td>\n",
       "      <td>65.57100</td>\n",
       "      <td>-144.77650</td>\n",
       "      <td>284.0</td>\n",
       "      <td>1948-07-01 07:00:00-05</td>\n",
       "      <td>NaN</td>\n",
       "      <td>NaN</td>\n",
       "      <td>NaN</td>\n",
       "      <td>NaN</td>\n",
       "    </tr>\n",
       "  </tbody>\n",
       "</table>"
      ],
      "text/plain": [
       "<IPython.core.display.HTML object>"
      ]
     },
     "metadata": {},
     "output_type": "display_data"
    }
   ],
   "source": [
    "display(HTML(airport_meta[airport_meta[\"sid\"].isin([\"PACE\", \"PARL\"])].to_html(index=False)))"
   ]
  },
  {
   "cell_type": "markdown",
   "metadata": {},
   "source": [
    "Both of these are in Central, AK and are very close. Examine time series:"
   ]
  },
  {
   "cell_type": "code",
   "execution_count": 10,
   "metadata": {},
   "outputs": [
    {
     "data": {
      "image/png": "[encoded data removed]",
      "text/plain": [
       "<Figure size 432x288 with 1 Axes>"
      ]
     },
     "metadata": {
      "needs_background": "light"
     },
     "output_type": "display_data"
    }
   ],
   "source": [
    "pace = pd.read_csv(list(raw_dir.glob(\"*PACE*\"))[0], na_values=\"M\")\n",
    "parl = pd.read_csv(list(raw_dir.glob(\"*PARL*\"))[0], na_values=\"M\")\n",
    "\n",
    "df = pace.merge(parl, \"outer\", [\"valid\", \"station\"]).rename(columns={\"sped_x\": \"PACE speed\", \"sped_y\": \"PARL speed\"})\n",
    "df[\"valid\"] = pd.to_datetime(df[\"valid\"].values)\n",
    "df[\"my\"] = df[\"valid\"].dt.to_period('M')\n",
    "\n",
    "df.groupby([\"station\", \"my\"]).mean().reset_index().plot(x=\"my\", y=[\"PACE speed\", \"PARL speed\"], xlabel=\"Year\")\n",
    "plt.show()"
   ]
  },
  {
   "cell_type": "markdown",
   "metadata": {},
   "source": [
    "These appear to be the same station, with some significant missing data in the 90s/00s. Probably not even worth keeping, as the data aren't even current. Discard both."
   ]
  },
  {
   "cell_type": "code",
   "execution_count": 11,
   "metadata": {},
   "outputs": [],
   "source": [
    "discard += [\"PACE\", \"PARL\"]"
   ]
  },
  {
   "cell_type": "markdown",
   "metadata": {},
   "source": [
    "#### PADG, PARD\n",
    "\n",
    "Metadata entries:"
   ]
  },
  {
   "cell_type": "code",
   "execution_count": 12,
   "metadata": {},
   "outputs": [
    {
     "data": {
      "text/html": [
       "<table border=\"1\" class=\"dataframe\">\n",
       "  <thead>\n",
       "    <tr style=\"text-align: right;\">\n",
       "      <th>sid</th>\n",
       "      <th>station_name</th>\n",
       "      <th>lat</th>\n",
       "      <th>lon</th>\n",
       "      <th>elev</th>\n",
       "      <th>begints</th>\n",
       "      <th>rw_name</th>\n",
       "      <th>rw_heading</th>\n",
       "      <th>faa_id</th>\n",
       "      <th>real_name</th>\n",
       "    </tr>\n",
       "  </thead>\n",
       "  <tbody>\n",
       "    <tr>\n",
       "      <td>PADG</td>\n",
       "      <td>Red Dog</td>\n",
       "      <td>68.03211</td>\n",
       "      <td>-162.89919</td>\n",
       "      <td>295.40000</td>\n",
       "      <td>2007-12-01 10:14:00-06</td>\n",
       "      <td>Runway 3/21</td>\n",
       "      <td>42.0</td>\n",
       "      <td>DGG</td>\n",
       "      <td>Red Dog Airport</td>\n",
       "    </tr>\n",
       "    <tr>\n",
       "      <td>PARD</td>\n",
       "      <td>RED DOG</td>\n",
       "      <td>68.03139</td>\n",
       "      <td>-162.90306</td>\n",
       "      <td>288.97864</td>\n",
       "      <td>2010-09-07 19:46:00-05</td>\n",
       "      <td>NaN</td>\n",
       "      <td>NaN</td>\n",
       "      <td>NaN</td>\n",
       "      <td>NaN</td>\n",
       "    </tr>\n",
       "  </tbody>\n",
       "</table>"
      ],
      "text/plain": [
       "<IPython.core.display.HTML object>"
      ]
     },
     "metadata": {},
     "output_type": "display_data"
    }
   ],
   "source": [
    "display(HTML(airport_meta[airport_meta[\"sid\"].isin([\"PADG\", \"PARD\"])].to_html(index=False)))"
   ]
  },
  {
   "cell_type": "markdown",
   "metadata": {},
   "source": [
    "These are likely just wrong names for the same station. Time series:"
   ]
  },
  {
   "cell_type": "code",
   "execution_count": 13,
   "metadata": {},
   "outputs": [
    {
     "data": {
      "image/png": "[encoded data removed]",
      "text/plain": [
       "<Figure size 432x288 with 1 Axes>"
      ]
     },
     "metadata": {
      "needs_background": "light"
     },
     "output_type": "display_data"
    }
   ],
   "source": [
    "padg = pd.read_csv(list(raw_dir.glob(\"*PADG*\"))[0], na_values=\"M\")\n",
    "pard = pd.read_csv(list(raw_dir.glob(\"*PARD*\"))[0], na_values=\"M\")\n",
    "\n",
    "df = padg.merge(pard, \"outer\", [\"valid\", \"station\"]).rename(columns={\"sped_x\": \"PADG speed\", \"sped_y\": \"PARD speed\"})\n",
    "df[\"valid\"] = pd.to_datetime(df[\"valid\"].values)\n",
    "df[\"my\"] = df[\"valid\"].dt.to_period('M')\n",
    "\n",
    "df.groupby([\"station\", \"my\"]).mean().reset_index().plot(x=\"my\", y=[\"PADG speed\", \"PARD speed\"], xlabel=\"Year\")\n",
    "plt.show()"
   ]
  },
  {
   "cell_type": "markdown",
   "metadata": {},
   "source": [
    "Okay, PADG has all the data, looks like PARD is an erroneous station, discard. Save tabular info about these stations for preprocessing."
   ]
  },
  {
   "cell_type": "code",
   "execution_count": 14,
   "metadata": {},
   "outputs": [],
   "source": [
    "discard.append(\"PARD\")"
   ]
  },
  {
   "cell_type": "markdown",
   "metadata": {},
   "source": [
    "## Missing names\n",
    "\n",
    "Check the airport metadata for missing \"real_name\" field. This corresponds to stations that were not found on AirNav.com. "
   ]
  },
  {
   "cell_type": "code",
   "execution_count": 15,
   "metadata": {},
   "outputs": [
    {
     "data": {
      "text/html": [
       "<div>\n",
       "<style scoped>\n",
       "    .dataframe tbody tr th:only-of-type {\n",
       "        vertical-align: middle;\n",
       "    }\n",
       "\n",
       "    .dataframe tbody tr th {\n",
       "        vertical-align: top;\n",
       "    }\n",
       "\n",
       "    .dataframe thead th {\n",
       "        text-align: right;\n",
       "    }\n",
       "</style>\n",
       "<table border=\"1\" class=\"dataframe\">\n",
       "  <thead>\n",
       "    <tr style=\"text-align: right;\">\n",
       "      <th></th>\n",
       "      <th>sid</th>\n",
       "      <th>station_name</th>\n",
       "      <th>lat</th>\n",
       "      <th>lon</th>\n",
       "      <th>elev</th>\n",
       "      <th>begints</th>\n",
       "      <th>rw_name</th>\n",
       "      <th>rw_heading</th>\n",
       "      <th>faa_id</th>\n",
       "      <th>real_name</th>\n",
       "    </tr>\n",
       "  </thead>\n",
       "  <tbody>\n",
       "    <tr>\n",
       "      <th>25</th>\n",
       "      <td>PALV</td>\n",
       "      <td>BIG RIVER LAKE</td>\n",
       "      <td>60.81600</td>\n",
       "      <td>-152.30200</td>\n",
       "      <td>12.0</td>\n",
       "      <td>1978-08-22 23:00:00-05</td>\n",
       "      <td>NaN</td>\n",
       "      <td>NaN</td>\n",
       "      <td>NaN</td>\n",
       "      <td>NaN</td>\n",
       "    </tr>\n",
       "    <tr>\n",
       "      <th>40</th>\n",
       "      <td>PAEC</td>\n",
       "      <td>CHULITNA</td>\n",
       "      <td>62.88333</td>\n",
       "      <td>-149.83333</td>\n",
       "      <td>381.0</td>\n",
       "      <td>1978-11-29 18:00:00-06</td>\n",
       "      <td>NaN</td>\n",
       "      <td>NaN</td>\n",
       "      <td>NaN</td>\n",
       "      <td>NaN</td>\n",
       "    </tr>\n",
       "    <tr>\n",
       "      <th>60</th>\n",
       "      <td>PAZK</td>\n",
       "      <td>EUREKA</td>\n",
       "      <td>61.93700</td>\n",
       "      <td>-147.16900</td>\n",
       "      <td>1002.0</td>\n",
       "      <td>1994-12-31 18:00:00-06</td>\n",
       "      <td>NaN</td>\n",
       "      <td>NaN</td>\n",
       "      <td>NaN</td>\n",
       "      <td>NaN</td>\n",
       "    </tr>\n",
       "    <tr>\n",
       "      <th>83</th>\n",
       "      <td>PAHZ</td>\n",
       "      <td>HAYES RIVER</td>\n",
       "      <td>61.98300</td>\n",
       "      <td>-152.08600</td>\n",
       "      <td>305.0</td>\n",
       "      <td>1972-12-31 18:00:00-06</td>\n",
       "      <td>NaN</td>\n",
       "      <td>NaN</td>\n",
       "      <td>NaN</td>\n",
       "      <td>NaN</td>\n",
       "    </tr>\n",
       "    <tr>\n",
       "      <th>141</th>\n",
       "      <td>PAER</td>\n",
       "      <td>MERRILL PASS WEST</td>\n",
       "      <td>61.25000</td>\n",
       "      <td>-153.82000</td>\n",
       "      <td>358.0</td>\n",
       "      <td>1973-08-25 11:00:00-05</td>\n",
       "      <td>NaN</td>\n",
       "      <td>NaN</td>\n",
       "      <td>NaN</td>\n",
       "      <td>NaN</td>\n",
       "    </tr>\n",
       "    <tr>\n",
       "      <th>177</th>\n",
       "      <td>PATO</td>\n",
       "      <td>PORTAGE GLACIER CENTER (ASOS)</td>\n",
       "      <td>60.78500</td>\n",
       "      <td>-148.83889</td>\n",
       "      <td>29.0</td>\n",
       "      <td>1998-11-01 03:53:00-06</td>\n",
       "      <td>NaN</td>\n",
       "      <td>NaN</td>\n",
       "      <td>NaN</td>\n",
       "      <td>NaN</td>\n",
       "    </tr>\n",
       "    <tr>\n",
       "      <th>184</th>\n",
       "      <td>PAPT</td>\n",
       "      <td>PUNTILLA (LAKE)</td>\n",
       "      <td>62.10000</td>\n",
       "      <td>-152.75000</td>\n",
       "      <td>560.0</td>\n",
       "      <td>1972-12-31 19:00:00-06</td>\n",
       "      <td>NaN</td>\n",
       "      <td>NaN</td>\n",
       "      <td>NaN</td>\n",
       "      <td>NaN</td>\n",
       "    </tr>\n",
       "    <tr>\n",
       "      <th>214</th>\n",
       "      <td>PALK</td>\n",
       "      <td>SNOWSHOE LAKE</td>\n",
       "      <td>62.03333</td>\n",
       "      <td>-142.66666</td>\n",
       "      <td>735.0</td>\n",
       "      <td>1972-12-31 18:00:00-06</td>\n",
       "      <td>NaN</td>\n",
       "      <td>NaN</td>\n",
       "      <td>NaN</td>\n",
       "      <td>NaN</td>\n",
       "    </tr>\n",
       "    <tr>\n",
       "      <th>222</th>\n",
       "      <td>PAJV</td>\n",
       "      <td>SUTTON</td>\n",
       "      <td>61.71667</td>\n",
       "      <td>-148.88333</td>\n",
       "      <td>265.0</td>\n",
       "      <td>1991-12-31 18:00:00-06</td>\n",
       "      <td>NaN</td>\n",
       "      <td>NaN</td>\n",
       "      <td>NaN</td>\n",
       "      <td>NaN</td>\n",
       "    </tr>\n",
       "    <tr>\n",
       "      <th>234</th>\n",
       "      <td>PAVW</td>\n",
       "      <td>VALDEZ</td>\n",
       "      <td>61.13333</td>\n",
       "      <td>-146.35000</td>\n",
       "      <td>10.0</td>\n",
       "      <td>1967-07-02 13:00:00-05</td>\n",
       "      <td>NaN</td>\n",
       "      <td>NaN</td>\n",
       "      <td>NaN</td>\n",
       "      <td>NaN</td>\n",
       "    </tr>\n",
       "  </tbody>\n",
       "</table>\n",
       "</div>"
      ],
      "text/plain": [
       "      sid                   station_name       lat        lon    elev  \\\n",
       "25   PALV                 BIG RIVER LAKE  60.81600 -152.30200    12.0   \n",
       "40   PAEC                       CHULITNA  62.88333 -149.83333   381.0   \n",
       "60   PAZK                         EUREKA  61.93700 -147.16900  1002.0   \n",
       "83   PAHZ                    HAYES RIVER  61.98300 -152.08600   305.0   \n",
       "141  PAER              MERRILL PASS WEST  61.25000 -153.82000   358.0   \n",
       "177  PATO  PORTAGE GLACIER CENTER (ASOS)  60.78500 -148.83889    29.0   \n",
       "184  PAPT                PUNTILLA (LAKE)  62.10000 -152.75000   560.0   \n",
       "214  PALK                  SNOWSHOE LAKE  62.03333 -142.66666   735.0   \n",
       "222  PAJV                         SUTTON  61.71667 -148.88333   265.0   \n",
       "234  PAVW                         VALDEZ  61.13333 -146.35000    10.0   \n",
       "\n",
       "                    begints rw_name  rw_heading faa_id real_name  \n",
       "25   1978-08-22 23:00:00-05     NaN         NaN    NaN       NaN  \n",
       "40   1978-11-29 18:00:00-06     NaN         NaN    NaN       NaN  \n",
       "60   1994-12-31 18:00:00-06     NaN         NaN    NaN       NaN  \n",
       "83   1972-12-31 18:00:00-06     NaN         NaN    NaN       NaN  \n",
       "141  1973-08-25 11:00:00-05     NaN         NaN    NaN       NaN  \n",
       "177  1998-11-01 03:53:00-06     NaN         NaN    NaN       NaN  \n",
       "184  1972-12-31 19:00:00-06     NaN         NaN    NaN       NaN  \n",
       "214  1972-12-31 18:00:00-06     NaN         NaN    NaN       NaN  \n",
       "222  1991-12-31 18:00:00-06     NaN         NaN    NaN       NaN  \n",
       "234  1967-07-02 13:00:00-05     NaN         NaN    NaN       NaN  "
      ]
     },
     "execution_count": 15,
     "metadata": {},
     "output_type": "execute_result"
    }
   ],
   "source": [
    "airport_meta = airport_meta.loc[~(airport_meta[\"sid\"].isin(discard))]\n",
    "airport_meta.loc[pd.isnull(airport_meta[\"real_name\"])]"
   ]
  },
  {
   "cell_type": "markdown",
   "metadata": {},
   "source": [
    "Check the record lengths for these stations:"
   ]
  },
  {
   "cell_type": "code",
   "execution_count": 16,
   "metadata": {},
   "outputs": [
    {
     "name": "stdout",
     "output_type": "stream",
     "text": [
      "PAZK    529993\n",
      "PAVW    232747\n",
      "PATO    231195\n",
      "PALV    118643\n",
      "PAPT    109147\n",
      "PAEC    105961\n",
      "PAHZ     94884\n",
      "PAJV     53207\n",
      "PALK     46944\n",
      "PAER      8168\n",
      "Name: station, dtype: int64\n"
     ]
    }
   ],
   "source": [
    "miss_sid = airport_meta.loc[pd.isnull(airport_meta[\"real_name\"])][\"sid\"].values\n",
    "df = pd.concat([pd.read_csv(list(raw_dir.glob(f\"*{sid}*\"))[0], na_values=\"M\") for sid in miss_sid])\n",
    "print(df[\"station\"].value_counts())"
   ]
  },
  {
   "cell_type": "markdown",
   "metadata": {},
   "source": [
    "Discard PAER for insufficient data. The remaining stations will require independent investigation and addition of names and other info."
   ]
  },
  {
   "cell_type": "code",
   "execution_count": 17,
   "metadata": {},
   "outputs": [],
   "source": [
    "discard.append(\"PAER\")"
   ]
  },
  {
   "cell_type": "markdown",
   "metadata": {},
   "source": [
    "#### PALK\n",
    "\n",
    "This is Snowshoe Lake Airport, a private airport near Glenallen, AK. See [AirNav entry.](https://www.airnav.com/airport/5AK4)\n",
    "\n",
    "Has two runways, Runway 16/34 and Runway 18W/36W."
   ]
  },
  {
   "cell_type": "code",
   "execution_count": 18,
   "metadata": {},
   "outputs": [],
   "source": [
    "new_meta = pd.DataFrame({\n",
    "    \"sid\": [\"PALK\", \"PALK\"], \n",
    "    \"rw_name\": [\"Runway 16/34\", \"Runway 18W/36W\"], \n",
    "    \"rw_heading\": [np.nan, np.nan],\n",
    "    \"faa_id\": [\"5AK4\", \"5AK4\"],\n",
    "    \"real_name\": \"Snowshoe Lake Airport\", \n",
    "})"
   ]
  },
  {
   "cell_type": "markdown",
   "metadata": {},
   "source": [
    "#### PAJV\n",
    "\n",
    "This is Jonesville Mine Airport. Looks like it was on AirNav previously? [See this archive link](https://web.archive.org/web/20101004221745/http://www.airnav.com/airport/PAJV). "
   ]
  },
  {
   "cell_type": "code",
   "execution_count": 19,
   "metadata": {},
   "outputs": [],
   "source": [
    "# add a month-year column to these stations with missing names\n",
    "df[\"valid\"] = pd.to_datetime(df[\"valid\"].values)\n",
    "df[\"my\"] = df[\"valid\"].dt.to_period('M')"
   ]
  },
  {
   "cell_type": "code",
   "execution_count": 20,
   "metadata": {},
   "outputs": [
    {
     "data": {
      "image/png": "[encoded data removed]",
      "text/plain": [
       "<Figure size 432x288 with 1 Axes>"
      ]
     },
     "metadata": {
      "needs_background": "light"
     },
     "output_type": "display_data"
    }
   ],
   "source": [
    "def plot_ts(sid):\n",
    "    df[df[\"station\"] == sid].groupby(\"my\").mean().reset_index().plot(\n",
    "        x=\"my\", \n",
    "        y=\"sped\", \n",
    "        xlabel=\"Year\", \n",
    "        ylabel=\"Wind speed (mph)\"\n",
    "    )\n",
    "    plt.show()\n",
    "    \n",
    "    return None\n",
    "\n",
    "plot_ts(\"PAJV\")"
   ]
  },
  {
   "cell_type": "markdown",
   "metadata": {},
   "source": [
    "Looks like this station hasn't reported in 10 years. However, it has a sufficient record length to warrant keeping it. Rename and include the runway info."
   ]
  },
  {
   "cell_type": "code",
   "execution_count": 21,
   "metadata": {},
   "outputs": [],
   "source": [
    "new_meta = new_meta.append(\n",
    "    pd.DataFrame({\n",
    "        \"sid\": [\"PALV\"], \n",
    "        \"rw_name\": [\"Runway 3/21\"], \n",
    "        \"rw_heading\": [np.nan],\n",
    "        \"faa_id\": [\"JVM\"],\n",
    "        \"real_name\": \"Jonesville Mine Airport\",\n",
    "    }),\n",
    ")"
   ]
  },
  {
   "cell_type": "markdown",
   "metadata": {},
   "source": [
    "#### PAHZ\n",
    "\n",
    "Hayes River Airport. Could not find any runway info. Monthly timeseries:"
   ]
  },
  {
   "cell_type": "code",
   "execution_count": 22,
   "metadata": {},
   "outputs": [
    {
     "data": {
      "image/png": "[encoded data removed]",
      "text/plain": [
       "<Figure size 432x288 with 1 Axes>"
      ]
     },
     "metadata": {
      "needs_background": "light"
     },
     "output_type": "display_data"
    }
   ],
   "source": [
    "plot_ts(\"PAHZ\")"
   ]
  },
  {
   "cell_type": "markdown",
   "metadata": {},
   "source": [
    "Again, another station that has no reports in 10 years, but a sufficient amount of data to warrant keeping it. Visible spikes that need to be evaluated."
   ]
  },
  {
   "cell_type": "code",
   "execution_count": 23,
   "metadata": {},
   "outputs": [],
   "source": [
    "new_meta = new_meta.append(\n",
    "    pd.DataFrame({\n",
    "        \"sid\": [\"PAHZ\"], \n",
    "        \"rw_name\": [np.nan], \n",
    "        \"rw_heading\": [np.nan],\n",
    "        \"faa_id\": [\"HZZ\"],\n",
    "        \"real_name\": \"Hayes River Airport\",\n",
    "    }),\n",
    ")"
   ]
  },
  {
   "cell_type": "markdown",
   "metadata": {},
   "source": [
    "#### PAEC\n",
    "\n",
    "Chulitna Airport. Not sure if this is an actual airport, not much info on it. Monthly time series:"
   ]
  },
  {
   "cell_type": "code",
   "execution_count": 24,
   "metadata": {},
   "outputs": [
    {
     "data": {
      "image/png": "[encoded data removed]",
      "text/plain": [
       "<Figure size 432x288 with 1 Axes>"
      ]
     },
     "metadata": {
      "needs_background": "light"
     },
     "output_type": "display_data"
    }
   ],
   "source": [
    "plot_ts(\"PAEC\")"
   ]
  },
  {
   "cell_type": "code",
   "execution_count": 25,
   "metadata": {},
   "outputs": [],
   "source": [
    "new_meta = new_meta.append(\n",
    "    pd.DataFrame({\n",
    "        \"sid\": [\"PAEC\"], \n",
    "        \"rw_name\": [np.nan], \n",
    "        \"rw_heading\": [np.nan],\n",
    "        \"faa_id\": [\"AEC\"],\n",
    "        \"real_name\": \"Chulitna\",\n",
    "    }),\n",
    ")"
   ]
  },
  {
   "cell_type": "markdown",
   "metadata": {},
   "source": [
    "#### PAPT\n",
    "\n",
    "Believe this is near [Rainy Pass Lodge Airport](https://www.airnav.com/airport/6AK), could even be on premises, but will still call Puntilla Lake for now. Will omit runway information for Rainy Pass Lodge Airport. "
   ]
  },
  {
   "cell_type": "code",
   "execution_count": 26,
   "metadata": {},
   "outputs": [
    {
     "data": {
      "image/png": "[encoded data removed]",
      "text/plain": [
       "<Figure size 432x288 with 1 Axes>"
      ]
     },
     "metadata": {
      "needs_background": "light"
     },
     "output_type": "display_data"
    }
   ],
   "source": [
    "plot_ts(\"PAPT\")"
   ]
  },
  {
   "cell_type": "code",
   "execution_count": 27,
   "metadata": {},
   "outputs": [],
   "source": [
    "new_meta = new_meta.append(\n",
    "    pd.DataFrame({\n",
    "        \"sid\": [\"PAPT\"], \n",
    "        \"rw_name\": [np.nan], \n",
    "        \"rw_heading\": [np.nan],\n",
    "        \"faa_id\": [\"PTI\"],\n",
    "        \"real_name\": \"Puntilla Lake\",\n",
    "    }),\n",
    ")"
   ]
  },
  {
   "cell_type": "markdown",
   "metadata": {},
   "source": [
    "#### PALV\n",
    "\n",
    "Big River Lakes, no other info. "
   ]
  },
  {
   "cell_type": "code",
   "execution_count": 28,
   "metadata": {},
   "outputs": [
    {
     "data": {
      "image/png": "[encoded data removed]",
      "text/plain": [
       "<Figure size 432x288 with 1 Axes>"
      ]
     },
     "metadata": {
      "needs_background": "light"
     },
     "output_type": "display_data"
    }
   ],
   "source": [
    "plot_ts(\"PALV\")"
   ]
  },
  {
   "cell_type": "code",
   "execution_count": 29,
   "metadata": {},
   "outputs": [],
   "source": [
    "new_meta = new_meta.append(\n",
    "    pd.DataFrame({\n",
    "        \"sid\": [\"PALV\"], \n",
    "        \"rw_name\": [np.nan], \n",
    "        \"rw_heading\": [np.nan],\n",
    "        \"faa_id\": [\"LVR\"],\n",
    "        \"real_name\": \"Big River Lakes\",\n",
    "    }),\n",
    ")"
   ]
  },
  {
   "cell_type": "markdown",
   "metadata": {},
   "source": [
    "#### PATO\n",
    "\n",
    "Believe this is not an airport, probably at the Begich Boggs Visitor Center? "
   ]
  },
  {
   "cell_type": "code",
   "execution_count": 30,
   "metadata": {},
   "outputs": [
    {
     "data": {
      "image/png": "[encoded data removed]",
      "text/plain": [
       "<Figure size 432x288 with 1 Axes>"
      ]
     },
     "metadata": {
      "needs_background": "light"
     },
     "output_type": "display_data"
    }
   ],
   "source": [
    "plot_ts(\"PATO\")"
   ]
  },
  {
   "cell_type": "code",
   "execution_count": 31,
   "metadata": {},
   "outputs": [],
   "source": [
    "new_meta = new_meta.append(\n",
    "    pd.DataFrame({\n",
    "        \"sid\": [\"PATO\"], \n",
    "        \"rw_name\": [np.nan], \n",
    "        \"rw_heading\": [np.nan],\n",
    "        \"faa_id\": [\"POR\"],\n",
    "        \"real_name\": \"Begich Boggs Visitor Center\",\n",
    "    }),\n",
    ")"
   ]
  },
  {
   "cell_type": "markdown",
   "metadata": {},
   "source": [
    "#### PAVW\n",
    "\n",
    "Valdez Weather Service Office."
   ]
  },
  {
   "cell_type": "code",
   "execution_count": 32,
   "metadata": {},
   "outputs": [
    {
     "data": {
      "image/png": "[encoded data removed]",
      "text/plain": [
       "<Figure size 432x288 with 1 Axes>"
      ]
     },
     "metadata": {
      "needs_background": "light"
     },
     "output_type": "display_data"
    }
   ],
   "source": [
    "plot_ts(\"PAVW\")"
   ]
  },
  {
   "cell_type": "code",
   "execution_count": 33,
   "metadata": {},
   "outputs": [],
   "source": [
    "new_meta = new_meta.append(\n",
    "    pd.DataFrame({\n",
    "        \"sid\": [\"PAVW\"], \n",
    "        \"rw_name\": [np.nan], \n",
    "        \"rw_heading\": [np.nan],\n",
    "        \"faa_id\": [\"VWS\"],\n",
    "        \"real_name\": \"Valdez Weather Service Office\",\n",
    "    }),\n",
    ")"
   ]
  },
  {
   "cell_type": "markdown",
   "metadata": {},
   "source": [
    "#### PAZK\n",
    "\n",
    "Skelton Airport. At [AirNav](https://www.airnav.com/airport/3AK1) under FAA identifier: 3AK1."
   ]
  },
  {
   "cell_type": "code",
   "execution_count": 34,
   "metadata": {},
   "outputs": [
    {
     "data": {
      "image/png": "[encoded data removed]",
      "text/plain": [
       "<Figure size 432x288 with 1 Axes>"
      ]
     },
     "metadata": {
      "needs_background": "light"
     },
     "output_type": "display_data"
    }
   ],
   "source": [
    "plot_ts(\"PAZK\")"
   ]
  },
  {
   "cell_type": "code",
   "execution_count": 35,
   "metadata": {},
   "outputs": [],
   "source": [
    "new_meta = new_meta.append(\n",
    "    pd.DataFrame({\n",
    "        \"sid\": [\"PAZK\"], \n",
    "        \"rw_name\": [\"Runway 3/21\"], \n",
    "        \"rw_heading\": [np.nan],\n",
    "        \"faa_id\": [\"3AK1\"],\n",
    "        \"real_name\": \"Skelton Airport\",\n",
    "    }),\n",
    ")"
   ]
  },
  {
   "cell_type": "code",
   "execution_count": 36,
   "metadata": {},
   "outputs": [],
   "source": [
    "# save new meta to data/meta_amend.csv\n",
    "new_meta.to_csv(\"../data/meta_amend.csv\", index=False)\n",
    "# save stations to ignore\n",
    "pd.DataFrame({\"sid\": discard}).to_csv(base_dir.joinpath(\"discard.csv\"), index=False)"
   ]
  },
  {
   "cell_type": "markdown",
   "metadata": {},
   "source": [
    "## Filtering erroneous data (spikes/dips)\n",
    "\n",
    "This section is for developing a method to identify and remove spikes/dips from the raw data. \n",
    "\n",
    "Previous efforts to remove spurious spikes and dips from these IEM data have relied on a fixed delta threshold method: an observation is flagged a spurious if the magnitude of the delta between the observation and both neighboring (preceding and following) observations is greater than some fixed value. This threshold was 30 mph for the data used in the community winds tool. \n",
    "\n",
    "While this method did filter out most spurious observartions, we found that it had a number of false positives, and show here that there are false negatives that couled be avoided, too. This section uses the spikes at a couple of exapmle locations, Fairbanks and Nome, to try to improve this spike detection method. \n",
    "\n",
    "### Spikes\n",
    "\n",
    "Here are the spikes identified for Nome under the original method:"
   ]
  },
  {
   "cell_type": "code",
   "execution_count": 37,
   "metadata": {
    "scrolled": false
   },
   "outputs": [
    {
     "data": {
      "text/html": [
       "<div>\n",
       "<style scoped>\n",
       "    .dataframe tbody tr th:only-of-type {\n",
       "        vertical-align: middle;\n",
       "    }\n",
       "\n",
       "    .dataframe tbody tr th {\n",
       "        vertical-align: top;\n",
       "    }\n",
       "\n",
       "    .dataframe thead th {\n",
       "        text-align: right;\n",
       "    }\n",
       "</style>\n",
       "<table border=\"1\" class=\"dataframe\">\n",
       "  <thead>\n",
       "    <tr style=\"text-align: right;\">\n",
       "      <th></th>\n",
       "      <th>sped</th>\n",
       "    </tr>\n",
       "    <tr>\n",
       "      <th>valid</th>\n",
       "      <th></th>\n",
       "    </tr>\n",
       "  </thead>\n",
       "  <tbody>\n",
       "    <tr>\n",
       "      <th>1980-01-05 21:00:00</th>\n",
       "      <td>51.75</td>\n",
       "    </tr>\n",
       "    <tr>\n",
       "      <th>1980-03-10 19:00:00</th>\n",
       "      <td>63.25</td>\n",
       "    </tr>\n",
       "    <tr>\n",
       "      <th>1980-05-04 20:00:00</th>\n",
       "      <td>55.20</td>\n",
       "    </tr>\n",
       "    <tr>\n",
       "      <th>1980-07-31 13:00:00</th>\n",
       "      <td>63.30</td>\n",
       "    </tr>\n",
       "    <tr>\n",
       "      <th>1981-01-16 16:00:00</th>\n",
       "      <td>63.30</td>\n",
       "    </tr>\n",
       "    <tr>\n",
       "      <th>1981-07-27 11:00:00</th>\n",
       "      <td>57.50</td>\n",
       "    </tr>\n",
       "    <tr>\n",
       "      <th>1981-10-24 05:08:00</th>\n",
       "      <td>58.65</td>\n",
       "    </tr>\n",
       "    <tr>\n",
       "      <th>1982-01-29 23:14:00</th>\n",
       "      <td>64.40</td>\n",
       "    </tr>\n",
       "    <tr>\n",
       "      <th>1982-02-04 23:44:00</th>\n",
       "      <td>43.70</td>\n",
       "    </tr>\n",
       "    <tr>\n",
       "      <th>2003-04-15 20:53:00</th>\n",
       "      <td>102.35</td>\n",
       "    </tr>\n",
       "    <tr>\n",
       "      <th>2011-11-09 11:53:00</th>\n",
       "      <td>73.77</td>\n",
       "    </tr>\n",
       "  </tbody>\n",
       "</table>\n",
       "</div>"
      ],
      "text/plain": [
       "                       sped\n",
       "valid                      \n",
       "1980-01-05 21:00:00   51.75\n",
       "1980-03-10 19:00:00   63.25\n",
       "1980-05-04 20:00:00   55.20\n",
       "1980-07-31 13:00:00   63.30\n",
       "1981-01-16 16:00:00   63.30\n",
       "1981-07-27 11:00:00   57.50\n",
       "1981-10-24 05:08:00   58.65\n",
       "1982-01-29 23:14:00   64.40\n",
       "1982-02-04 23:44:00   43.70\n",
       "2003-04-15 20:53:00  102.35\n",
       "2011-11-09 11:53:00   73.77"
      ]
     },
     "execution_count": 37,
     "metadata": {},
     "output_type": "execute_result"
    }
   ],
   "source": [
    "def get_spikes_original(station):\n",
    "    def remove_subsequent_idx(idx):\n",
    "        k = idx[0]\n",
    "        r = []\n",
    "        for i in np.arange(idx[1:].shape[0]):\n",
    "            if (idx[i + 1] - k) == 1:\n",
    "                r.append(i + 1)\n",
    "            k = idx[i + 1]\n",
    "\n",
    "        return idx[np.array(r)]\n",
    "\n",
    "    station = station.copy()\n",
    "    station = station.reset_index()\n",
    "    xname = \"sped\"\n",
    "    tname = \"valid\"\n",
    "    delta = 30\n",
    "\n",
    "    # speed deltas\n",
    "    xd = abs(station[xname].values[1:] - station[xname].values[:-1])\n",
    "    # time deltas\n",
    "    td = (station[tname].values[1:] - station[tname].values[:-1]) / (10 ** 9 * 3600)\n",
    "    # potential spikes\n",
    "    pidx = np.where(xd > delta)[0]\n",
    "    # true spike indices (time difference of two hours or less)\n",
    "    try:\n",
    "        sidx = remove_subsequent_idx(pidx[td[pidx].astype(float) <= 2])\n",
    "    except IndexError:\n",
    "        sidx = pidx\n",
    "    spikes = pd.DataFrame(station.take(sidx))\n",
    "    \n",
    "    return spikes\n",
    "\n",
    "\n",
    "paom = pd.read_csv(list(base_dir.joinpath(\"raw/iem\").glob(\"*PAOM*\"))[0], na_values=\"M\")\n",
    "paom[\"valid\"] = pd.to_datetime(paom[\"valid\"])\n",
    "paom = paom.set_index(\"valid\")\n",
    "\n",
    "spikes = get_spikes_original(paom)\n",
    "spikes.set_index(\"valid\").drop(columns=[\"station\", \"drct\", \"gust_mph\"])"
   ]
  },
  {
   "cell_type": "markdown",
   "metadata": {},
   "source": [
    "And here are the spikes for Fairbanks:"
   ]
  },
  {
   "cell_type": "code",
   "execution_count": 38,
   "metadata": {},
   "outputs": [
    {
     "data": {
      "text/html": [
       "<div>\n",
       "<style scoped>\n",
       "    .dataframe tbody tr th:only-of-type {\n",
       "        vertical-align: middle;\n",
       "    }\n",
       "\n",
       "    .dataframe tbody tr th {\n",
       "        vertical-align: top;\n",
       "    }\n",
       "\n",
       "    .dataframe thead th {\n",
       "        text-align: right;\n",
       "    }\n",
       "</style>\n",
       "<table border=\"1\" class=\"dataframe\">\n",
       "  <thead>\n",
       "    <tr style=\"text-align: right;\">\n",
       "      <th></th>\n",
       "      <th>sped</th>\n",
       "    </tr>\n",
       "    <tr>\n",
       "      <th>valid</th>\n",
       "      <th></th>\n",
       "    </tr>\n",
       "  </thead>\n",
       "  <tbody>\n",
       "    <tr>\n",
       "      <th>1980-12-15 12:00:00</th>\n",
       "      <td>57.50</td>\n",
       "    </tr>\n",
       "    <tr>\n",
       "      <th>1981-04-08 02:00:00</th>\n",
       "      <td>50.60</td>\n",
       "    </tr>\n",
       "    <tr>\n",
       "      <th>1981-09-30 12:00:00</th>\n",
       "      <td>48.30</td>\n",
       "    </tr>\n",
       "    <tr>\n",
       "      <th>1982-12-02 11:11:00</th>\n",
       "      <td>48.30</td>\n",
       "    </tr>\n",
       "    <tr>\n",
       "      <th>1987-12-21 22:01:00</th>\n",
       "      <td>54.05</td>\n",
       "    </tr>\n",
       "    <tr>\n",
       "      <th>2002-10-08 22:53:00</th>\n",
       "      <td>140.30</td>\n",
       "    </tr>\n",
       "    <tr>\n",
       "      <th>2013-03-14 12:53:00</th>\n",
       "      <td>128.80</td>\n",
       "    </tr>\n",
       "  </tbody>\n",
       "</table>\n",
       "</div>"
      ],
      "text/plain": [
       "                       sped\n",
       "valid                      \n",
       "1980-12-15 12:00:00   57.50\n",
       "1981-04-08 02:00:00   50.60\n",
       "1981-09-30 12:00:00   48.30\n",
       "1982-12-02 11:11:00   48.30\n",
       "1987-12-21 22:01:00   54.05\n",
       "2002-10-08 22:53:00  140.30\n",
       "2013-03-14 12:53:00  128.80"
      ]
     },
     "execution_count": 38,
     "metadata": {},
     "output_type": "execute_result"
    }
   ],
   "source": [
    "pafa = pd.read_csv(list(base_dir.joinpath(\"raw/iem\").glob(\"*PAFA*\"))[0], na_values=\"M\")\n",
    "pafa[\"valid\"] = pd.to_datetime(pafa[\"valid\"])\n",
    "pafa = pafa.set_index(\"valid\")\n",
    "\n",
    "spikes = get_spikes_original(pafa)\n",
    "spikes.set_index(\"valid\").drop(columns=[\"station\", \"drct\", \"gust_mph\"])"
   ]
  },
  {
   "cell_type": "markdown",
   "metadata": {},
   "source": [
    "As mentioned above, the goal is to improve both the false positive and false negative error rates. There is greater potential for false positives during higher wind periods, because higher winds are typically associated with larger swings in winds, which renders the fixed 30mph threshold less effective during these times. Similarly, The fixed threshold of 30 mph may be too large during calm periods, where jumps of 20 mph or so are highly suspect.  \n",
    "\n",
    "A good example of the former is the record at 2011-11-09 11:53:00 at Nome Airport which was flagged:"
   ]
  },
  {
   "cell_type": "code",
   "execution_count": 39,
   "metadata": {},
   "outputs": [
    {
     "data": {
      "text/html": [
       "<div>\n",
       "<style scoped>\n",
       "    .dataframe tbody tr th:only-of-type {\n",
       "        vertical-align: middle;\n",
       "    }\n",
       "\n",
       "    .dataframe tbody tr th {\n",
       "        vertical-align: top;\n",
       "    }\n",
       "\n",
       "    .dataframe thead th {\n",
       "        text-align: right;\n",
       "    }\n",
       "</style>\n",
       "<table border=\"1\" class=\"dataframe\">\n",
       "  <thead>\n",
       "    <tr style=\"text-align: right;\">\n",
       "      <th></th>\n",
       "      <th>station</th>\n",
       "      <th>sped</th>\n",
       "      <th>drct</th>\n",
       "      <th>gust_mph</th>\n",
       "    </tr>\n",
       "    <tr>\n",
       "      <th>valid</th>\n",
       "      <th></th>\n",
       "      <th></th>\n",
       "      <th></th>\n",
       "      <th></th>\n",
       "    </tr>\n",
       "  </thead>\n",
       "  <tbody>\n",
       "    <tr>\n",
       "      <th>2011-11-09 05:53:00</th>\n",
       "      <td>PAOM</td>\n",
       "      <td>44.85</td>\n",
       "      <td>100.0</td>\n",
       "      <td>60.95</td>\n",
       "    </tr>\n",
       "    <tr>\n",
       "      <th>2011-11-09 05:53:00</th>\n",
       "      <td>PAOM</td>\n",
       "      <td>44.85</td>\n",
       "      <td>100.0</td>\n",
       "      <td>60.95</td>\n",
       "    </tr>\n",
       "    <tr>\n",
       "      <th>2011-11-09 05:53:00</th>\n",
       "      <td>PAOM</td>\n",
       "      <td>44.85</td>\n",
       "      <td>100.0</td>\n",
       "      <td>60.95</td>\n",
       "    </tr>\n",
       "    <tr>\n",
       "      <th>2011-11-09 09:53:00</th>\n",
       "      <td>PAOM</td>\n",
       "      <td>40.25</td>\n",
       "      <td>120.0</td>\n",
       "      <td>55.20</td>\n",
       "    </tr>\n",
       "    <tr>\n",
       "      <th>2011-11-09 11:53:00</th>\n",
       "      <td>PAOM</td>\n",
       "      <td>73.77</td>\n",
       "      <td>140.0</td>\n",
       "      <td>93.89</td>\n",
       "    </tr>\n",
       "    <tr>\n",
       "      <th>2011-11-09 12:00:00</th>\n",
       "      <td>PAOM</td>\n",
       "      <td>37.95</td>\n",
       "      <td>130.0</td>\n",
       "      <td>49.45</td>\n",
       "    </tr>\n",
       "    <tr>\n",
       "      <th>2011-11-09 12:00:00</th>\n",
       "      <td>PAOM</td>\n",
       "      <td>37.95</td>\n",
       "      <td>130.0</td>\n",
       "      <td>49.45</td>\n",
       "    </tr>\n",
       "  </tbody>\n",
       "</table>\n",
       "</div>"
      ],
      "text/plain": [
       "                    station   sped   drct  gust_mph\n",
       "valid                                              \n",
       "2011-11-09 05:53:00    PAOM  44.85  100.0     60.95\n",
       "2011-11-09 05:53:00    PAOM  44.85  100.0     60.95\n",
       "2011-11-09 05:53:00    PAOM  44.85  100.0     60.95\n",
       "2011-11-09 09:53:00    PAOM  40.25  120.0     55.20\n",
       "2011-11-09 11:53:00    PAOM  73.77  140.0     93.89\n",
       "2011-11-09 12:00:00    PAOM  37.95  130.0     49.45\n",
       "2011-11-09 12:00:00    PAOM  37.95  130.0     49.45"
      ]
     },
     "execution_count": 39,
     "metadata": {},
     "output_type": "execute_result"
    }
   ],
   "source": [
    "paom[\"2011-11-09 05:53:00\" :\"2011-11-09 12:00:00\"]"
   ]
  },
  {
   "cell_type": "markdown",
   "metadata": {},
   "source": [
    "This is not a spurious spike, and is therefore an important record to include given its manitude!\n",
    "\n",
    "The method also misses observations that could be spurious but not as severe, and one such observation that is likely a false negative is 1997-12-10 03:53:00:"
   ]
  },
  {
   "cell_type": "code",
   "execution_count": 40,
   "metadata": {},
   "outputs": [
    {
     "data": {
      "text/html": [
       "<div>\n",
       "<style scoped>\n",
       "    .dataframe tbody tr th:only-of-type {\n",
       "        vertical-align: middle;\n",
       "    }\n",
       "\n",
       "    .dataframe tbody tr th {\n",
       "        vertical-align: top;\n",
       "    }\n",
       "\n",
       "    .dataframe thead th {\n",
       "        text-align: right;\n",
       "    }\n",
       "</style>\n",
       "<table border=\"1\" class=\"dataframe\">\n",
       "  <thead>\n",
       "    <tr style=\"text-align: right;\">\n",
       "      <th></th>\n",
       "      <th>station</th>\n",
       "      <th>sped</th>\n",
       "      <th>drct</th>\n",
       "      <th>gust_mph</th>\n",
       "    </tr>\n",
       "    <tr>\n",
       "      <th>valid</th>\n",
       "      <th></th>\n",
       "      <th></th>\n",
       "      <th></th>\n",
       "      <th></th>\n",
       "    </tr>\n",
       "  </thead>\n",
       "  <tbody>\n",
       "    <tr>\n",
       "      <th>1997-12-10 01:50:00</th>\n",
       "      <td>PAOM</td>\n",
       "      <td>12.65</td>\n",
       "      <td>340.0</td>\n",
       "      <td>NaN</td>\n",
       "    </tr>\n",
       "    <tr>\n",
       "      <th>1997-12-10 02:57:00</th>\n",
       "      <td>PAOM</td>\n",
       "      <td>13.80</td>\n",
       "      <td>330.0</td>\n",
       "      <td>NaN</td>\n",
       "    </tr>\n",
       "    <tr>\n",
       "      <th>1997-12-10 03:53:00</th>\n",
       "      <td>PAOM</td>\n",
       "      <td>37.95</td>\n",
       "      <td>330.0</td>\n",
       "      <td>NaN</td>\n",
       "    </tr>\n",
       "    <tr>\n",
       "      <th>1997-12-10 04:55:00</th>\n",
       "      <td>PAOM</td>\n",
       "      <td>11.50</td>\n",
       "      <td>330.0</td>\n",
       "      <td>NaN</td>\n",
       "    </tr>\n",
       "    <tr>\n",
       "      <th>1997-12-10 05:50:00</th>\n",
       "      <td>PAOM</td>\n",
       "      <td>11.50</td>\n",
       "      <td>330.0</td>\n",
       "      <td>NaN</td>\n",
       "    </tr>\n",
       "  </tbody>\n",
       "</table>\n",
       "</div>"
      ],
      "text/plain": [
       "                    station   sped   drct  gust_mph\n",
       "valid                                              \n",
       "1997-12-10 01:50:00    PAOM  12.65  340.0       NaN\n",
       "1997-12-10 02:57:00    PAOM  13.80  330.0       NaN\n",
       "1997-12-10 03:53:00    PAOM  37.95  330.0       NaN\n",
       "1997-12-10 04:55:00    PAOM  11.50  330.0       NaN\n",
       "1997-12-10 05:50:00    PAOM  11.50  330.0       NaN"
      ]
     },
     "execution_count": 40,
     "metadata": {},
     "output_type": "execute_result"
    }
   ],
   "source": [
    "paom[\"1997-12-10 01:00:00\" :\"1997-12-10 06:00:00\"]"
   ]
  },
  {
   "cell_type": "markdown",
   "metadata": {},
   "source": [
    "Unfortunately there is no original scanned record to check this against. \n",
    "\n",
    "Here is an example of a spurious observation that was missed at Fairbanks, at 1982-05-21 18:35:00:"
   ]
  },
  {
   "cell_type": "code",
   "execution_count": 41,
   "metadata": {},
   "outputs": [
    {
     "data": {
      "text/html": [
       "<div>\n",
       "<style scoped>\n",
       "    .dataframe tbody tr th:only-of-type {\n",
       "        vertical-align: middle;\n",
       "    }\n",
       "\n",
       "    .dataframe tbody tr th {\n",
       "        vertical-align: top;\n",
       "    }\n",
       "\n",
       "    .dataframe thead th {\n",
       "        text-align: right;\n",
       "    }\n",
       "</style>\n",
       "<table border=\"1\" class=\"dataframe\">\n",
       "  <thead>\n",
       "    <tr style=\"text-align: right;\">\n",
       "      <th></th>\n",
       "      <th>station</th>\n",
       "      <th>sped</th>\n",
       "      <th>drct</th>\n",
       "      <th>gust_mph</th>\n",
       "    </tr>\n",
       "    <tr>\n",
       "      <th>valid</th>\n",
       "      <th></th>\n",
       "      <th></th>\n",
       "      <th></th>\n",
       "      <th></th>\n",
       "    </tr>\n",
       "  </thead>\n",
       "  <tbody>\n",
       "    <tr>\n",
       "      <th>1982-05-21 17:00:00</th>\n",
       "      <td>PAFA</td>\n",
       "      <td>6.90</td>\n",
       "      <td>240.0</td>\n",
       "      <td>NaN</td>\n",
       "    </tr>\n",
       "    <tr>\n",
       "      <th>1982-05-21 18:00:00</th>\n",
       "      <td>PAFA</td>\n",
       "      <td>11.50</td>\n",
       "      <td>230.0</td>\n",
       "      <td>NaN</td>\n",
       "    </tr>\n",
       "    <tr>\n",
       "      <th>1982-05-21 18:35:00</th>\n",
       "      <td>PAFA</td>\n",
       "      <td>40.25</td>\n",
       "      <td>180.0</td>\n",
       "      <td>NaN</td>\n",
       "    </tr>\n",
       "    <tr>\n",
       "      <th>1982-05-21 19:00:00</th>\n",
       "      <td>PAFA</td>\n",
       "      <td>10.35</td>\n",
       "      <td>220.0</td>\n",
       "      <td>NaN</td>\n",
       "    </tr>\n",
       "    <tr>\n",
       "      <th>1982-05-21 20:00:00</th>\n",
       "      <td>PAFA</td>\n",
       "      <td>12.65</td>\n",
       "      <td>250.0</td>\n",
       "      <td>NaN</td>\n",
       "    </tr>\n",
       "  </tbody>\n",
       "</table>\n",
       "</div>"
      ],
      "text/plain": [
       "                    station   sped   drct  gust_mph\n",
       "valid                                              \n",
       "1982-05-21 17:00:00    PAFA   6.90  240.0       NaN\n",
       "1982-05-21 18:00:00    PAFA  11.50  230.0       NaN\n",
       "1982-05-21 18:35:00    PAFA  40.25  180.0       NaN\n",
       "1982-05-21 19:00:00    PAFA  10.35  220.0       NaN\n",
       "1982-05-21 20:00:00    PAFA  12.65  250.0       NaN"
      ]
     },
     "execution_count": 41,
     "metadata": {},
     "output_type": "execute_result"
    }
   ],
   "source": [
    "pafa[\"1982-05-21 17:00:00\": \"1982-05-21 20:00:00\"]"
   ]
  },
  {
   "cell_type": "markdown",
   "metadata": {},
   "source": [
    "Review of the original [METARs](swo/pafa_swo_19820521.pdf) show that this is an error in digitizing, and the real speed was actually 9 kts (10.35 mph). These examples demonstrate the need for a more sensitive method of spike detection. \n",
    "\n",
    "After some experimentation with manually implementing some statistical methods, the most straightforward solution at this time appears to be enlisting the help of external code. `scipy.signal.find_peaks` appears to perform well with the correct parameter specification. Here are the spikes detected at Nome Airport using this function with `prominence=25`:"
   ]
  },
  {
   "cell_type": "code",
   "execution_count": 42,
   "metadata": {},
   "outputs": [
    {
     "data": {
      "text/html": [
       "<div>\n",
       "<style scoped>\n",
       "    .dataframe tbody tr th:only-of-type {\n",
       "        vertical-align: middle;\n",
       "    }\n",
       "\n",
       "    .dataframe tbody tr th {\n",
       "        vertical-align: top;\n",
       "    }\n",
       "\n",
       "    .dataframe thead th {\n",
       "        text-align: right;\n",
       "    }\n",
       "</style>\n",
       "<table border=\"1\" class=\"dataframe\">\n",
       "  <thead>\n",
       "    <tr style=\"text-align: right;\">\n",
       "      <th></th>\n",
       "      <th>sped</th>\n",
       "    </tr>\n",
       "    <tr>\n",
       "      <th>valid</th>\n",
       "      <th></th>\n",
       "    </tr>\n",
       "  </thead>\n",
       "  <tbody>\n",
       "    <tr>\n",
       "      <th>1980-01-05 21:00:00</th>\n",
       "      <td>51.75</td>\n",
       "    </tr>\n",
       "    <tr>\n",
       "      <th>1980-01-14 17:00:00</th>\n",
       "      <td>25.30</td>\n",
       "    </tr>\n",
       "    <tr>\n",
       "      <th>1980-03-10 19:00:00</th>\n",
       "      <td>63.25</td>\n",
       "    </tr>\n",
       "    <tr>\n",
       "      <th>1980-05-04 20:00:00</th>\n",
       "      <td>55.20</td>\n",
       "    </tr>\n",
       "    <tr>\n",
       "      <th>1980-07-31 13:00:00</th>\n",
       "      <td>63.30</td>\n",
       "    </tr>\n",
       "    <tr>\n",
       "      <th>1981-01-16 16:00:00</th>\n",
       "      <td>63.30</td>\n",
       "    </tr>\n",
       "    <tr>\n",
       "      <th>1981-02-13 12:00:00</th>\n",
       "      <td>29.90</td>\n",
       "    </tr>\n",
       "    <tr>\n",
       "      <th>1981-07-27 11:00:00</th>\n",
       "      <td>57.50</td>\n",
       "    </tr>\n",
       "    <tr>\n",
       "      <th>1981-10-24 05:08:00</th>\n",
       "      <td>58.65</td>\n",
       "    </tr>\n",
       "    <tr>\n",
       "      <th>1982-01-29 23:14:00</th>\n",
       "      <td>64.40</td>\n",
       "    </tr>\n",
       "    <tr>\n",
       "      <th>1982-02-04 23:44:00</th>\n",
       "      <td>43.70</td>\n",
       "    </tr>\n",
       "    <tr>\n",
       "      <th>1983-01-03 07:00:00</th>\n",
       "      <td>27.60</td>\n",
       "    </tr>\n",
       "    <tr>\n",
       "      <th>1986-03-08 14:21:00</th>\n",
       "      <td>28.75</td>\n",
       "    </tr>\n",
       "    <tr>\n",
       "      <th>1986-03-10 08:00:00</th>\n",
       "      <td>28.75</td>\n",
       "    </tr>\n",
       "    <tr>\n",
       "      <th>1987-11-06 14:35:00</th>\n",
       "      <td>25.30</td>\n",
       "    </tr>\n",
       "    <tr>\n",
       "      <th>1989-11-22 00:22:00</th>\n",
       "      <td>32.20</td>\n",
       "    </tr>\n",
       "    <tr>\n",
       "      <th>1997-12-10 03:53:00</th>\n",
       "      <td>37.95</td>\n",
       "    </tr>\n",
       "    <tr>\n",
       "      <th>1998-01-24 22:07:00</th>\n",
       "      <td>25.30</td>\n",
       "    </tr>\n",
       "    <tr>\n",
       "      <th>2003-04-15 20:53:00</th>\n",
       "      <td>102.35</td>\n",
       "    </tr>\n",
       "    <tr>\n",
       "      <th>2012-01-23 03:53:00</th>\n",
       "      <td>28.75</td>\n",
       "    </tr>\n",
       "    <tr>\n",
       "      <th>2012-10-18 08:53:00</th>\n",
       "      <td>25.30</td>\n",
       "    </tr>\n",
       "    <tr>\n",
       "      <th>2017-11-23 11:53:00</th>\n",
       "      <td>31.05</td>\n",
       "    </tr>\n",
       "  </tbody>\n",
       "</table>\n",
       "</div>"
      ],
      "text/plain": [
       "                       sped\n",
       "valid                      \n",
       "1980-01-05 21:00:00   51.75\n",
       "1980-01-14 17:00:00   25.30\n",
       "1980-03-10 19:00:00   63.25\n",
       "1980-05-04 20:00:00   55.20\n",
       "1980-07-31 13:00:00   63.30\n",
       "1981-01-16 16:00:00   63.30\n",
       "1981-02-13 12:00:00   29.90\n",
       "1981-07-27 11:00:00   57.50\n",
       "1981-10-24 05:08:00   58.65\n",
       "1982-01-29 23:14:00   64.40\n",
       "1982-02-04 23:44:00   43.70\n",
       "1983-01-03 07:00:00   27.60\n",
       "1986-03-08 14:21:00   28.75\n",
       "1986-03-10 08:00:00   28.75\n",
       "1987-11-06 14:35:00   25.30\n",
       "1989-11-22 00:22:00   32.20\n",
       "1997-12-10 03:53:00   37.95\n",
       "1998-01-24 22:07:00   25.30\n",
       "2003-04-15 20:53:00  102.35\n",
       "2012-01-23 03:53:00   28.75\n",
       "2012-10-18 08:53:00   25.30\n",
       "2017-11-23 11:53:00   31.05"
      ]
     },
     "execution_count": 42,
     "metadata": {},
     "output_type": "execute_result"
    }
   ],
   "source": [
    "# example of conditioning peaks on width_heights property being >= 18\n",
    "# for Nome to avert false positive\n",
    "\n",
    "# without conditioning on width_heights being >= 18\n",
    "\n",
    "ws_series = paom[~np.isnan(paom[\"sped\"])][\"sped\"]\n",
    "peaks, properties = find_peaks(ws_series, prominence=25, width=(None, 2))\n",
    "\n",
    "pd.DataFrame(ws_series[peaks])"
   ]
  },
  {
   "cell_type": "markdown",
   "metadata": {},
   "source": [
    "Whoa! This flagged many more records thatn the original. We see no false positive at 2011-11-09, and the likely false negative at 1997-12-10 is captured, which are good signs. However, this algorithm may be oversensitive to smaller deviations, e.g. at 1980-01-14 17:00:00, 1981-02-13 12:00:00, etc. Are these actually spurious?"
   ]
  },
  {
   "cell_type": "code",
   "execution_count": 43,
   "metadata": {
    "scrolled": true
   },
   "outputs": [
    {
     "data": {
      "text/html": [
       "<div>\n",
       "<style scoped>\n",
       "    .dataframe tbody tr th:only-of-type {\n",
       "        vertical-align: middle;\n",
       "    }\n",
       "\n",
       "    .dataframe tbody tr th {\n",
       "        vertical-align: top;\n",
       "    }\n",
       "\n",
       "    .dataframe thead th {\n",
       "        text-align: right;\n",
       "    }\n",
       "</style>\n",
       "<table border=\"1\" class=\"dataframe\">\n",
       "  <thead>\n",
       "    <tr style=\"text-align: right;\">\n",
       "      <th></th>\n",
       "      <th>station</th>\n",
       "      <th>sped</th>\n",
       "      <th>drct</th>\n",
       "      <th>gust_mph</th>\n",
       "    </tr>\n",
       "    <tr>\n",
       "      <th>valid</th>\n",
       "      <th></th>\n",
       "      <th></th>\n",
       "      <th></th>\n",
       "      <th></th>\n",
       "    </tr>\n",
       "  </thead>\n",
       "  <tbody>\n",
       "    <tr>\n",
       "      <th>1980-01-14 15:00:00</th>\n",
       "      <td>PAOM</td>\n",
       "      <td>11.50</td>\n",
       "      <td>350.0</td>\n",
       "      <td>23.0</td>\n",
       "    </tr>\n",
       "    <tr>\n",
       "      <th>1980-01-14 16:00:00</th>\n",
       "      <td>PAOM</td>\n",
       "      <td>5.75</td>\n",
       "      <td>280.0</td>\n",
       "      <td>NaN</td>\n",
       "    </tr>\n",
       "    <tr>\n",
       "      <th>1980-01-14 17:00:00</th>\n",
       "      <td>PAOM</td>\n",
       "      <td>25.30</td>\n",
       "      <td>330.0</td>\n",
       "      <td>NaN</td>\n",
       "    </tr>\n",
       "    <tr>\n",
       "      <th>1980-01-14 18:00:00</th>\n",
       "      <td>PAOM</td>\n",
       "      <td>11.50</td>\n",
       "      <td>350.0</td>\n",
       "      <td>NaN</td>\n",
       "    </tr>\n",
       "    <tr>\n",
       "      <th>1980-01-14 19:00:00</th>\n",
       "      <td>PAOM</td>\n",
       "      <td>13.80</td>\n",
       "      <td>340.0</td>\n",
       "      <td>NaN</td>\n",
       "    </tr>\n",
       "  </tbody>\n",
       "</table>\n",
       "</div>"
      ],
      "text/plain": [
       "                    station   sped   drct  gust_mph\n",
       "valid                                              \n",
       "1980-01-14 15:00:00    PAOM  11.50  350.0      23.0\n",
       "1980-01-14 16:00:00    PAOM   5.75  280.0       NaN\n",
       "1980-01-14 17:00:00    PAOM  25.30  330.0       NaN\n",
       "1980-01-14 18:00:00    PAOM  11.50  350.0       NaN\n",
       "1980-01-14 19:00:00    PAOM  13.80  340.0       NaN"
      ]
     },
     "execution_count": 43,
     "metadata": {},
     "output_type": "execute_result"
    }
   ],
   "source": [
    "paom[\"1980-01-14 15:00:00\" :\"1980-01-14 19:00:00\"]"
   ]
  },
  {
   "cell_type": "markdown",
   "metadata": {},
   "source": [
    "Doesn't look like it, and the original [METARs](swo/paom_swo_19800114.pdf) confirm this is a valid record. How about 1981-02-13 12:00:00?"
   ]
  },
  {
   "cell_type": "code",
   "execution_count": 44,
   "metadata": {},
   "outputs": [
    {
     "data": {
      "text/html": [
       "<div>\n",
       "<style scoped>\n",
       "    .dataframe tbody tr th:only-of-type {\n",
       "        vertical-align: middle;\n",
       "    }\n",
       "\n",
       "    .dataframe tbody tr th {\n",
       "        vertical-align: top;\n",
       "    }\n",
       "\n",
       "    .dataframe thead th {\n",
       "        text-align: right;\n",
       "    }\n",
       "</style>\n",
       "<table border=\"1\" class=\"dataframe\">\n",
       "  <thead>\n",
       "    <tr style=\"text-align: right;\">\n",
       "      <th></th>\n",
       "      <th>station</th>\n",
       "      <th>sped</th>\n",
       "      <th>drct</th>\n",
       "      <th>gust_mph</th>\n",
       "    </tr>\n",
       "    <tr>\n",
       "      <th>valid</th>\n",
       "      <th></th>\n",
       "      <th></th>\n",
       "      <th></th>\n",
       "      <th></th>\n",
       "    </tr>\n",
       "  </thead>\n",
       "  <tbody>\n",
       "    <tr>\n",
       "      <th>1981-02-13 10:00:00</th>\n",
       "      <td>PAOM</td>\n",
       "      <td>17.25</td>\n",
       "      <td>350.0</td>\n",
       "      <td>NaN</td>\n",
       "    </tr>\n",
       "    <tr>\n",
       "      <th>1981-02-13 11:00:00</th>\n",
       "      <td>PAOM</td>\n",
       "      <td>10.35</td>\n",
       "      <td>50.0</td>\n",
       "      <td>NaN</td>\n",
       "    </tr>\n",
       "    <tr>\n",
       "      <th>1981-02-13 12:00:00</th>\n",
       "      <td>PAOM</td>\n",
       "      <td>29.90</td>\n",
       "      <td>10.0</td>\n",
       "      <td>34.5</td>\n",
       "    </tr>\n",
       "    <tr>\n",
       "      <th>1981-02-13 13:00:00</th>\n",
       "      <td>PAOM</td>\n",
       "      <td>13.80</td>\n",
       "      <td>30.0</td>\n",
       "      <td>NaN</td>\n",
       "    </tr>\n",
       "    <tr>\n",
       "      <th>1981-02-13 14:00:00</th>\n",
       "      <td>PAOM</td>\n",
       "      <td>12.65</td>\n",
       "      <td>40.0</td>\n",
       "      <td>NaN</td>\n",
       "    </tr>\n",
       "  </tbody>\n",
       "</table>\n",
       "</div>"
      ],
      "text/plain": [
       "                    station   sped   drct  gust_mph\n",
       "valid                                              \n",
       "1981-02-13 10:00:00    PAOM  17.25  350.0       NaN\n",
       "1981-02-13 11:00:00    PAOM  10.35   50.0       NaN\n",
       "1981-02-13 12:00:00    PAOM  29.90   10.0      34.5\n",
       "1981-02-13 13:00:00    PAOM  13.80   30.0       NaN\n",
       "1981-02-13 14:00:00    PAOM  12.65   40.0       NaN"
      ]
     },
     "execution_count": 44,
     "metadata": {},
     "output_type": "execute_result"
    }
   ],
   "source": [
    "paom[\"1981-02-13 10:00:00\" :\"1981-02-13 14:00:00\"]"
   ]
  },
  {
   "cell_type": "markdown",
   "metadata": {},
   "source": [
    "Again, METARs [METARs](swo/paom_swo_19810213.pdf) confirm this is a valid record.\n",
    "\n",
    "Here are the peaks detected for Fairbanks Intl Airport using this function, and this same issue of false positives is evident:"
   ]
  },
  {
   "cell_type": "code",
   "execution_count": 45,
   "metadata": {},
   "outputs": [
    {
     "data": {
      "text/html": [
       "<div>\n",
       "<style scoped>\n",
       "    .dataframe tbody tr th:only-of-type {\n",
       "        vertical-align: middle;\n",
       "    }\n",
       "\n",
       "    .dataframe tbody tr th {\n",
       "        vertical-align: top;\n",
       "    }\n",
       "\n",
       "    .dataframe thead th {\n",
       "        text-align: right;\n",
       "    }\n",
       "</style>\n",
       "<table border=\"1\" class=\"dataframe\">\n",
       "  <thead>\n",
       "    <tr style=\"text-align: right;\">\n",
       "      <th></th>\n",
       "      <th>sped</th>\n",
       "    </tr>\n",
       "    <tr>\n",
       "      <th>valid</th>\n",
       "      <th></th>\n",
       "    </tr>\n",
       "  </thead>\n",
       "  <tbody>\n",
       "    <tr>\n",
       "      <th>1980-06-20 19:00:00</th>\n",
       "      <td>32.20</td>\n",
       "    </tr>\n",
       "    <tr>\n",
       "      <th>1980-07-19 23:00:00</th>\n",
       "      <td>27.60</td>\n",
       "    </tr>\n",
       "    <tr>\n",
       "      <th>1980-12-15 12:00:00</th>\n",
       "      <td>57.50</td>\n",
       "    </tr>\n",
       "    <tr>\n",
       "      <th>1981-04-08 02:00:00</th>\n",
       "      <td>50.60</td>\n",
       "    </tr>\n",
       "    <tr>\n",
       "      <th>1981-06-16 00:13:00</th>\n",
       "      <td>29.90</td>\n",
       "    </tr>\n",
       "    <tr>\n",
       "      <th>1981-09-30 12:00:00</th>\n",
       "      <td>48.30</td>\n",
       "    </tr>\n",
       "    <tr>\n",
       "      <th>1982-05-21 18:35:00</th>\n",
       "      <td>40.25</td>\n",
       "    </tr>\n",
       "    <tr>\n",
       "      <th>1982-12-02 11:11:00</th>\n",
       "      <td>48.30</td>\n",
       "    </tr>\n",
       "    <tr>\n",
       "      <th>1986-08-28 05:01:00</th>\n",
       "      <td>26.45</td>\n",
       "    </tr>\n",
       "    <tr>\n",
       "      <th>1987-12-21 22:01:00</th>\n",
       "      <td>54.05</td>\n",
       "    </tr>\n",
       "    <tr>\n",
       "      <th>1995-07-15 01:00:00</th>\n",
       "      <td>25.30</td>\n",
       "    </tr>\n",
       "    <tr>\n",
       "      <th>2002-10-08 22:53:00</th>\n",
       "      <td>140.30</td>\n",
       "    </tr>\n",
       "    <tr>\n",
       "      <th>2004-02-14 17:24:00</th>\n",
       "      <td>28.75</td>\n",
       "    </tr>\n",
       "    <tr>\n",
       "      <th>2004-05-31 23:53:00</th>\n",
       "      <td>28.75</td>\n",
       "    </tr>\n",
       "    <tr>\n",
       "      <th>2009-01-16 21:50:00</th>\n",
       "      <td>27.60</td>\n",
       "    </tr>\n",
       "    <tr>\n",
       "      <th>2013-03-14 12:53:00</th>\n",
       "      <td>128.80</td>\n",
       "    </tr>\n",
       "    <tr>\n",
       "      <th>2018-05-23 00:53:00</th>\n",
       "      <td>25.30</td>\n",
       "    </tr>\n",
       "    <tr>\n",
       "      <th>2019-08-17 04:53:00</th>\n",
       "      <td>26.45</td>\n",
       "    </tr>\n",
       "  </tbody>\n",
       "</table>\n",
       "</div>"
      ],
      "text/plain": [
       "                       sped\n",
       "valid                      \n",
       "1980-06-20 19:00:00   32.20\n",
       "1980-07-19 23:00:00   27.60\n",
       "1980-12-15 12:00:00   57.50\n",
       "1981-04-08 02:00:00   50.60\n",
       "1981-06-16 00:13:00   29.90\n",
       "1981-09-30 12:00:00   48.30\n",
       "1982-05-21 18:35:00   40.25\n",
       "1982-12-02 11:11:00   48.30\n",
       "1986-08-28 05:01:00   26.45\n",
       "1987-12-21 22:01:00   54.05\n",
       "1995-07-15 01:00:00   25.30\n",
       "2002-10-08 22:53:00  140.30\n",
       "2004-02-14 17:24:00   28.75\n",
       "2004-05-31 23:53:00   28.75\n",
       "2009-01-16 21:50:00   27.60\n",
       "2013-03-14 12:53:00  128.80\n",
       "2018-05-23 00:53:00   25.30\n",
       "2019-08-17 04:53:00   26.45"
      ]
     },
     "execution_count": 45,
     "metadata": {},
     "output_type": "execute_result"
    }
   ],
   "source": [
    "ws_series = pafa[~np.isnan(pafa[\"sped\"])][\"sped\"]\n",
    "peaks, properties = find_peaks(ws_series, prominence=25, width=(None, 2))\n",
    "\n",
    "pd.DataFrame(ws_series[peaks])"
   ]
  },
  {
   "cell_type": "markdown",
   "metadata": {},
   "source": [
    "How about the first two spikes, at 1980-06-20 19:00:00 and 1980-07-19 23:00:00?"
   ]
  },
  {
   "cell_type": "code",
   "execution_count": 46,
   "metadata": {},
   "outputs": [
    {
     "data": {
      "text/html": [
       "<div>\n",
       "<style scoped>\n",
       "    .dataframe tbody tr th:only-of-type {\n",
       "        vertical-align: middle;\n",
       "    }\n",
       "\n",
       "    .dataframe tbody tr th {\n",
       "        vertical-align: top;\n",
       "    }\n",
       "\n",
       "    .dataframe thead th {\n",
       "        text-align: right;\n",
       "    }\n",
       "</style>\n",
       "<table border=\"1\" class=\"dataframe\">\n",
       "  <thead>\n",
       "    <tr style=\"text-align: right;\">\n",
       "      <th></th>\n",
       "      <th>station</th>\n",
       "      <th>sped</th>\n",
       "      <th>drct</th>\n",
       "      <th>gust_mph</th>\n",
       "    </tr>\n",
       "    <tr>\n",
       "      <th>valid</th>\n",
       "      <th></th>\n",
       "      <th></th>\n",
       "      <th></th>\n",
       "      <th></th>\n",
       "    </tr>\n",
       "  </thead>\n",
       "  <tbody>\n",
       "    <tr>\n",
       "      <th>1980-06-20 17:00:00</th>\n",
       "      <td>PAFA</td>\n",
       "      <td>0.0</td>\n",
       "      <td>0.0</td>\n",
       "      <td>NaN</td>\n",
       "    </tr>\n",
       "    <tr>\n",
       "      <th>1980-06-20 18:00:00</th>\n",
       "      <td>PAFA</td>\n",
       "      <td>6.9</td>\n",
       "      <td>210.0</td>\n",
       "      <td>NaN</td>\n",
       "    </tr>\n",
       "    <tr>\n",
       "      <th>1980-06-20 19:00:00</th>\n",
       "      <td>PAFA</td>\n",
       "      <td>32.2</td>\n",
       "      <td>190.0</td>\n",
       "      <td>NaN</td>\n",
       "    </tr>\n",
       "    <tr>\n",
       "      <th>1980-06-20 20:00:00</th>\n",
       "      <td>PAFA</td>\n",
       "      <td>11.5</td>\n",
       "      <td>170.0</td>\n",
       "      <td>NaN</td>\n",
       "    </tr>\n",
       "    <tr>\n",
       "      <th>1980-06-20 21:00:00</th>\n",
       "      <td>PAFA</td>\n",
       "      <td>6.9</td>\n",
       "      <td>100.0</td>\n",
       "      <td>NaN</td>\n",
       "    </tr>\n",
       "  </tbody>\n",
       "</table>\n",
       "</div>"
      ],
      "text/plain": [
       "                    station  sped   drct  gust_mph\n",
       "valid                                             \n",
       "1980-06-20 17:00:00    PAFA   0.0    0.0       NaN\n",
       "1980-06-20 18:00:00    PAFA   6.9  210.0       NaN\n",
       "1980-06-20 19:00:00    PAFA  32.2  190.0       NaN\n",
       "1980-06-20 20:00:00    PAFA  11.5  170.0       NaN\n",
       "1980-06-20 21:00:00    PAFA   6.9  100.0       NaN"
      ]
     },
     "execution_count": 46,
     "metadata": {},
     "output_type": "execute_result"
    }
   ],
   "source": [
    "pafa[\"1980-06-20 17:00:00\": \"1980-06-20 21:00:00\"]"
   ]
  },
  {
   "cell_type": "markdown",
   "metadata": {},
   "source": [
    "This looks legit, and the [METARs](swo/pafa_swo_19800620.pdf) agree. "
   ]
  },
  {
   "cell_type": "code",
   "execution_count": 47,
   "metadata": {},
   "outputs": [
    {
     "data": {
      "text/html": [
       "<div>\n",
       "<style scoped>\n",
       "    .dataframe tbody tr th:only-of-type {\n",
       "        vertical-align: middle;\n",
       "    }\n",
       "\n",
       "    .dataframe tbody tr th {\n",
       "        vertical-align: top;\n",
       "    }\n",
       "\n",
       "    .dataframe thead th {\n",
       "        text-align: right;\n",
       "    }\n",
       "</style>\n",
       "<table border=\"1\" class=\"dataframe\">\n",
       "  <thead>\n",
       "    <tr style=\"text-align: right;\">\n",
       "      <th></th>\n",
       "      <th>station</th>\n",
       "      <th>sped</th>\n",
       "      <th>drct</th>\n",
       "      <th>gust_mph</th>\n",
       "    </tr>\n",
       "    <tr>\n",
       "      <th>valid</th>\n",
       "      <th></th>\n",
       "      <th></th>\n",
       "      <th></th>\n",
       "      <th></th>\n",
       "    </tr>\n",
       "  </thead>\n",
       "  <tbody>\n",
       "    <tr>\n",
       "      <th>1980-07-19 21:00:00</th>\n",
       "      <td>PAFA</td>\n",
       "      <td>3.45</td>\n",
       "      <td>110.0</td>\n",
       "      <td>NaN</td>\n",
       "    </tr>\n",
       "    <tr>\n",
       "      <th>1980-07-19 22:00:00</th>\n",
       "      <td>PAFA</td>\n",
       "      <td>8.05</td>\n",
       "      <td>190.0</td>\n",
       "      <td>NaN</td>\n",
       "    </tr>\n",
       "    <tr>\n",
       "      <th>1980-07-19 23:00:00</th>\n",
       "      <td>PAFA</td>\n",
       "      <td>27.60</td>\n",
       "      <td>360.0</td>\n",
       "      <td>NaN</td>\n",
       "    </tr>\n",
       "    <tr>\n",
       "      <th>1980-07-20 00:00:00</th>\n",
       "      <td>PAFA</td>\n",
       "      <td>9.20</td>\n",
       "      <td>160.0</td>\n",
       "      <td>NaN</td>\n",
       "    </tr>\n",
       "    <tr>\n",
       "      <th>1980-07-20 01:00:00</th>\n",
       "      <td>PAFA</td>\n",
       "      <td>5.75</td>\n",
       "      <td>320.0</td>\n",
       "      <td>NaN</td>\n",
       "    </tr>\n",
       "  </tbody>\n",
       "</table>\n",
       "</div>"
      ],
      "text/plain": [
       "                    station   sped   drct  gust_mph\n",
       "valid                                              \n",
       "1980-07-19 21:00:00    PAFA   3.45  110.0       NaN\n",
       "1980-07-19 22:00:00    PAFA   8.05  190.0       NaN\n",
       "1980-07-19 23:00:00    PAFA  27.60  360.0       NaN\n",
       "1980-07-20 00:00:00    PAFA   9.20  160.0       NaN\n",
       "1980-07-20 01:00:00    PAFA   5.75  320.0       NaN"
      ]
     },
     "execution_count": 47,
     "metadata": {},
     "output_type": "execute_result"
    }
   ],
   "source": [
    "pafa[\"1980-07-19 21:00:00\": \"1980-07-20 01:00:00\"]"
   ]
  },
  {
   "cell_type": "markdown",
   "metadata": {},
   "source": [
    "This one looks a little more suspicious, but the [METARs](swo/pafa_swo_19800719.pdf) again indicate it is a valid record. These examples show the greater susceptibility of this method to signaling false positives. \n",
    "\n",
    "Luckily, some tinkering has revealed that conditioning on the properties of the peak (returned from the function) can eliminate these false positives. Specifically, conditioning on the `width_heights` property being >= 18 seems to be the sweet spot for these two locations.\n",
    "\n",
    "Here are the spikes for Nome and Fairbanks after conditioning on this property:"
   ]
  },
  {
   "cell_type": "code",
   "execution_count": 48,
   "metadata": {},
   "outputs": [
    {
     "name": "stdout",
     "output_type": "stream",
     "text": [
      "Nome Airport:\n"
     ]
    },
    {
     "data": {
      "text/html": [
       "<div>\n",
       "<style scoped>\n",
       "    .dataframe tbody tr th:only-of-type {\n",
       "        vertical-align: middle;\n",
       "    }\n",
       "\n",
       "    .dataframe tbody tr th {\n",
       "        vertical-align: top;\n",
       "    }\n",
       "\n",
       "    .dataframe thead th {\n",
       "        text-align: right;\n",
       "    }\n",
       "</style>\n",
       "<table border=\"1\" class=\"dataframe\">\n",
       "  <thead>\n",
       "    <tr style=\"text-align: right;\">\n",
       "      <th></th>\n",
       "      <th>sped</th>\n",
       "    </tr>\n",
       "    <tr>\n",
       "      <th>valid</th>\n",
       "      <th></th>\n",
       "    </tr>\n",
       "  </thead>\n",
       "  <tbody>\n",
       "    <tr>\n",
       "      <th>1980-01-05 21:00:00</th>\n",
       "      <td>51.75</td>\n",
       "    </tr>\n",
       "    <tr>\n",
       "      <th>1980-03-10 19:00:00</th>\n",
       "      <td>63.25</td>\n",
       "    </tr>\n",
       "    <tr>\n",
       "      <th>1980-05-04 20:00:00</th>\n",
       "      <td>55.20</td>\n",
       "    </tr>\n",
       "    <tr>\n",
       "      <th>1980-07-31 13:00:00</th>\n",
       "      <td>63.30</td>\n",
       "    </tr>\n",
       "    <tr>\n",
       "      <th>1981-01-16 16:00:00</th>\n",
       "      <td>63.30</td>\n",
       "    </tr>\n",
       "    <tr>\n",
       "      <th>1981-07-27 11:00:00</th>\n",
       "      <td>57.50</td>\n",
       "    </tr>\n",
       "    <tr>\n",
       "      <th>1981-10-24 05:08:00</th>\n",
       "      <td>58.65</td>\n",
       "    </tr>\n",
       "    <tr>\n",
       "      <th>1982-01-29 23:14:00</th>\n",
       "      <td>64.40</td>\n",
       "    </tr>\n",
       "    <tr>\n",
       "      <th>1982-02-04 23:44:00</th>\n",
       "      <td>43.70</td>\n",
       "    </tr>\n",
       "    <tr>\n",
       "      <th>1997-12-10 03:53:00</th>\n",
       "      <td>37.95</td>\n",
       "    </tr>\n",
       "    <tr>\n",
       "      <th>2003-04-15 20:53:00</th>\n",
       "      <td>102.35</td>\n",
       "    </tr>\n",
       "  </tbody>\n",
       "</table>\n",
       "</div>"
      ],
      "text/plain": [
       "                       sped\n",
       "valid                      \n",
       "1980-01-05 21:00:00   51.75\n",
       "1980-03-10 19:00:00   63.25\n",
       "1980-05-04 20:00:00   55.20\n",
       "1980-07-31 13:00:00   63.30\n",
       "1981-01-16 16:00:00   63.30\n",
       "1981-07-27 11:00:00   57.50\n",
       "1981-10-24 05:08:00   58.65\n",
       "1982-01-29 23:14:00   64.40\n",
       "1982-02-04 23:44:00   43.70\n",
       "1997-12-10 03:53:00   37.95\n",
       "2003-04-15 20:53:00  102.35"
      ]
     },
     "execution_count": 48,
     "metadata": {},
     "output_type": "execute_result"
    }
   ],
   "source": [
    "print(\"Nome Airport:\")\n",
    "ws_series = paom[~np.isnan(paom[\"sped\"])][\"sped\"]\n",
    "peaks, properties = find_peaks(ws_series, prominence=25, width=(None, 2))\n",
    "\n",
    "pd.DataFrame(ws_series[peaks[properties[\"width_heights\"] >= 18]])"
   ]
  },
  {
   "cell_type": "code",
   "execution_count": 49,
   "metadata": {},
   "outputs": [
    {
     "name": "stdout",
     "output_type": "stream",
     "text": [
      "Fairbanks Intl Airport:\n"
     ]
    },
    {
     "data": {
      "text/html": [
       "<div>\n",
       "<style scoped>\n",
       "    .dataframe tbody tr th:only-of-type {\n",
       "        vertical-align: middle;\n",
       "    }\n",
       "\n",
       "    .dataframe tbody tr th {\n",
       "        vertical-align: top;\n",
       "    }\n",
       "\n",
       "    .dataframe thead th {\n",
       "        text-align: right;\n",
       "    }\n",
       "</style>\n",
       "<table border=\"1\" class=\"dataframe\">\n",
       "  <thead>\n",
       "    <tr style=\"text-align: right;\">\n",
       "      <th></th>\n",
       "      <th>sped</th>\n",
       "    </tr>\n",
       "    <tr>\n",
       "      <th>valid</th>\n",
       "      <th></th>\n",
       "    </tr>\n",
       "  </thead>\n",
       "  <tbody>\n",
       "    <tr>\n",
       "      <th>1980-12-15 12:00:00</th>\n",
       "      <td>57.50</td>\n",
       "    </tr>\n",
       "    <tr>\n",
       "      <th>1981-04-08 02:00:00</th>\n",
       "      <td>50.60</td>\n",
       "    </tr>\n",
       "    <tr>\n",
       "      <th>1981-09-30 12:00:00</th>\n",
       "      <td>48.30</td>\n",
       "    </tr>\n",
       "    <tr>\n",
       "      <th>1982-05-21 18:35:00</th>\n",
       "      <td>40.25</td>\n",
       "    </tr>\n",
       "    <tr>\n",
       "      <th>1982-12-02 11:11:00</th>\n",
       "      <td>48.30</td>\n",
       "    </tr>\n",
       "    <tr>\n",
       "      <th>1987-12-21 22:01:00</th>\n",
       "      <td>54.05</td>\n",
       "    </tr>\n",
       "    <tr>\n",
       "      <th>2002-10-08 22:53:00</th>\n",
       "      <td>140.30</td>\n",
       "    </tr>\n",
       "    <tr>\n",
       "      <th>2013-03-14 12:53:00</th>\n",
       "      <td>128.80</td>\n",
       "    </tr>\n",
       "  </tbody>\n",
       "</table>\n",
       "</div>"
      ],
      "text/plain": [
       "                       sped\n",
       "valid                      \n",
       "1980-12-15 12:00:00   57.50\n",
       "1981-04-08 02:00:00   50.60\n",
       "1981-09-30 12:00:00   48.30\n",
       "1982-05-21 18:35:00   40.25\n",
       "1982-12-02 11:11:00   48.30\n",
       "1987-12-21 22:01:00   54.05\n",
       "2002-10-08 22:53:00  140.30\n",
       "2013-03-14 12:53:00  128.80"
      ]
     },
     "execution_count": 49,
     "metadata": {},
     "output_type": "execute_result"
    }
   ],
   "source": [
    "print(\"Fairbanks Intl Airport:\")\n",
    "ws_series = pafa[~np.isnan(pafa[\"sped\"])][\"sped\"]\n",
    "peaks, properties = find_peaks(ws_series, prominence=25, width=(None, 2))\n",
    "\n",
    "pd.DataFrame(ws_series[peaks[properties[\"width_heights\"] >= 18]])"
   ]
  },
  {
   "cell_type": "markdown",
   "metadata": {},
   "source": [
    "The false positives identified above are all now absent from these peaks, and the original false negative example at Nome Airport 1997-12-10 03:53:00 was picked up. Additionally, a new false negative for Fairbanks Intl Airport was identified, the record at 1982-05-21 18:35:00, as verified by the [METARs](swo/pafa_swo_19820521.pdf) for that day. \n",
    "\n",
    "### Dips\n",
    "\n",
    "Another repeating artifact of the IEM ASOS wind speed data is the potential for dips, particularly instances where the reported wind speed dips to zero or near zero during a period of high winds. It looks like the `scipy.signal.find_peaks` function could be used to detect these by inverting the time series. First, here is an example of the issue at Tin City (PATC):"
   ]
  },
  {
   "cell_type": "code",
   "execution_count": 50,
   "metadata": {},
   "outputs": [
    {
     "data": {
      "text/html": [
       "<div>\n",
       "<style scoped>\n",
       "    .dataframe tbody tr th:only-of-type {\n",
       "        vertical-align: middle;\n",
       "    }\n",
       "\n",
       "    .dataframe tbody tr th {\n",
       "        vertical-align: top;\n",
       "    }\n",
       "\n",
       "    .dataframe thead th {\n",
       "        text-align: right;\n",
       "    }\n",
       "</style>\n",
       "<table border=\"1\" class=\"dataframe\">\n",
       "  <thead>\n",
       "    <tr style=\"text-align: right;\">\n",
       "      <th></th>\n",
       "      <th>station</th>\n",
       "      <th>sped</th>\n",
       "      <th>drct</th>\n",
       "      <th>gust_mph</th>\n",
       "    </tr>\n",
       "    <tr>\n",
       "      <th>valid</th>\n",
       "      <th></th>\n",
       "      <th></th>\n",
       "      <th></th>\n",
       "      <th></th>\n",
       "    </tr>\n",
       "  </thead>\n",
       "  <tbody>\n",
       "    <tr>\n",
       "      <th>1999-03-25 00:55:00</th>\n",
       "      <td>PATC</td>\n",
       "      <td>32.20</td>\n",
       "      <td>10.0</td>\n",
       "      <td>NaN</td>\n",
       "    </tr>\n",
       "    <tr>\n",
       "      <th>1999-03-25 01:55:00</th>\n",
       "      <td>PATC</td>\n",
       "      <td>35.65</td>\n",
       "      <td>10.0</td>\n",
       "      <td>39.10</td>\n",
       "    </tr>\n",
       "    <tr>\n",
       "      <th>1999-03-25 02:55:00</th>\n",
       "      <td>PATC</td>\n",
       "      <td>31.05</td>\n",
       "      <td>10.0</td>\n",
       "      <td>NaN</td>\n",
       "    </tr>\n",
       "    <tr>\n",
       "      <th>1999-03-25 04:55:00</th>\n",
       "      <td>PATC</td>\n",
       "      <td>36.80</td>\n",
       "      <td>20.0</td>\n",
       "      <td>40.25</td>\n",
       "    </tr>\n",
       "    <tr>\n",
       "      <th>1999-03-25 05:55:00</th>\n",
       "      <td>PATC</td>\n",
       "      <td>39.10</td>\n",
       "      <td>20.0</td>\n",
       "      <td>NaN</td>\n",
       "    </tr>\n",
       "    <tr>\n",
       "      <th>1999-03-25 06:55:00</th>\n",
       "      <td>PATC</td>\n",
       "      <td>40.25</td>\n",
       "      <td>10.0</td>\n",
       "      <td>NaN</td>\n",
       "    </tr>\n",
       "    <tr>\n",
       "      <th>1999-03-25 07:55:00</th>\n",
       "      <td>PATC</td>\n",
       "      <td>43.70</td>\n",
       "      <td>10.0</td>\n",
       "      <td>NaN</td>\n",
       "    </tr>\n",
       "    <tr>\n",
       "      <th>1999-03-25 08:55:00</th>\n",
       "      <td>PATC</td>\n",
       "      <td>39.10</td>\n",
       "      <td>10.0</td>\n",
       "      <td>NaN</td>\n",
       "    </tr>\n",
       "    <tr>\n",
       "      <th>1999-03-25 09:55:00</th>\n",
       "      <td>PATC</td>\n",
       "      <td>41.40</td>\n",
       "      <td>10.0</td>\n",
       "      <td>NaN</td>\n",
       "    </tr>\n",
       "    <tr>\n",
       "      <th>1999-03-25 11:55:00</th>\n",
       "      <td>PATC</td>\n",
       "      <td>42.55</td>\n",
       "      <td>10.0</td>\n",
       "      <td>NaN</td>\n",
       "    </tr>\n",
       "    <tr>\n",
       "      <th>1999-03-25 13:04:00</th>\n",
       "      <td>PATC</td>\n",
       "      <td>43.70</td>\n",
       "      <td>20.0</td>\n",
       "      <td>NaN</td>\n",
       "    </tr>\n",
       "    <tr>\n",
       "      <th>1999-03-25 13:55:00</th>\n",
       "      <td>PATC</td>\n",
       "      <td>0.00</td>\n",
       "      <td>0.0</td>\n",
       "      <td>NaN</td>\n",
       "    </tr>\n",
       "    <tr>\n",
       "      <th>1999-03-25 15:55:00</th>\n",
       "      <td>PATC</td>\n",
       "      <td>37.95</td>\n",
       "      <td>10.0</td>\n",
       "      <td>NaN</td>\n",
       "    </tr>\n",
       "    <tr>\n",
       "      <th>1999-03-25 16:55:00</th>\n",
       "      <td>PATC</td>\n",
       "      <td>43.70</td>\n",
       "      <td>10.0</td>\n",
       "      <td>NaN</td>\n",
       "    </tr>\n",
       "    <tr>\n",
       "      <th>1999-03-25 17:55:00</th>\n",
       "      <td>PATC</td>\n",
       "      <td>0.00</td>\n",
       "      <td>0.0</td>\n",
       "      <td>NaN</td>\n",
       "    </tr>\n",
       "    <tr>\n",
       "      <th>1999-03-25 18:55:00</th>\n",
       "      <td>PATC</td>\n",
       "      <td>41.40</td>\n",
       "      <td>10.0</td>\n",
       "      <td>47.15</td>\n",
       "    </tr>\n",
       "    <tr>\n",
       "      <th>1999-03-25 19:55:00</th>\n",
       "      <td>PATC</td>\n",
       "      <td>0.00</td>\n",
       "      <td>0.0</td>\n",
       "      <td>NaN</td>\n",
       "    </tr>\n",
       "    <tr>\n",
       "      <th>1999-03-25 20:55:00</th>\n",
       "      <td>PATC</td>\n",
       "      <td>44.85</td>\n",
       "      <td>20.0</td>\n",
       "      <td>NaN</td>\n",
       "    </tr>\n",
       "    <tr>\n",
       "      <th>1999-03-25 21:55:00</th>\n",
       "      <td>PATC</td>\n",
       "      <td>43.70</td>\n",
       "      <td>10.0</td>\n",
       "      <td>48.30</td>\n",
       "    </tr>\n",
       "    <tr>\n",
       "      <th>1999-03-25 22:55:00</th>\n",
       "      <td>PATC</td>\n",
       "      <td>0.00</td>\n",
       "      <td>0.0</td>\n",
       "      <td>NaN</td>\n",
       "    </tr>\n",
       "    <tr>\n",
       "      <th>1999-03-25 23:55:00</th>\n",
       "      <td>PATC</td>\n",
       "      <td>43.70</td>\n",
       "      <td>10.0</td>\n",
       "      <td>NaN</td>\n",
       "    </tr>\n",
       "  </tbody>\n",
       "</table>\n",
       "</div>"
      ],
      "text/plain": [
       "                    station   sped  drct  gust_mph\n",
       "valid                                             \n",
       "1999-03-25 00:55:00    PATC  32.20  10.0       NaN\n",
       "1999-03-25 01:55:00    PATC  35.65  10.0     39.10\n",
       "1999-03-25 02:55:00    PATC  31.05  10.0       NaN\n",
       "1999-03-25 04:55:00    PATC  36.80  20.0     40.25\n",
       "1999-03-25 05:55:00    PATC  39.10  20.0       NaN\n",
       "1999-03-25 06:55:00    PATC  40.25  10.0       NaN\n",
       "1999-03-25 07:55:00    PATC  43.70  10.0       NaN\n",
       "1999-03-25 08:55:00    PATC  39.10  10.0       NaN\n",
       "1999-03-25 09:55:00    PATC  41.40  10.0       NaN\n",
       "1999-03-25 11:55:00    PATC  42.55  10.0       NaN\n",
       "1999-03-25 13:04:00    PATC  43.70  20.0       NaN\n",
       "1999-03-25 13:55:00    PATC   0.00   0.0       NaN\n",
       "1999-03-25 15:55:00    PATC  37.95  10.0       NaN\n",
       "1999-03-25 16:55:00    PATC  43.70  10.0       NaN\n",
       "1999-03-25 17:55:00    PATC   0.00   0.0       NaN\n",
       "1999-03-25 18:55:00    PATC  41.40  10.0     47.15\n",
       "1999-03-25 19:55:00    PATC   0.00   0.0       NaN\n",
       "1999-03-25 20:55:00    PATC  44.85  20.0       NaN\n",
       "1999-03-25 21:55:00    PATC  43.70  10.0     48.30\n",
       "1999-03-25 22:55:00    PATC   0.00   0.0       NaN\n",
       "1999-03-25 23:55:00    PATC  43.70  10.0       NaN"
      ]
     },
     "execution_count": 50,
     "metadata": {},
     "output_type": "execute_result"
    }
   ],
   "source": [
    "patc = pd.read_csv(list(base_dir.joinpath(\"raw/iem\").glob(\"*PATC*\"))[0], na_values=\"M\")\n",
    "patc[\"valid\"] = pd.to_datetime(patc[\"valid\"])\n",
    "patc = patc.set_index(\"valid\")\n",
    "\n",
    "patc[\"1999-03-25\"]"
   ]
  },
  {
   "cell_type": "markdown",
   "metadata": {},
   "source": [
    "All the zeros in that slice are highly likely to be spurious. By inverting the time series and running the peak detection function on these, it looks like we can do a decent job of identifying the dips:"
   ]
  },
  {
   "cell_type": "code",
   "execution_count": 51,
   "metadata": {},
   "outputs": [
    {
     "data": {
      "text/plain": [
       "valid\n",
       "1994-05-12 06:35:00    -1.15\n",
       "1996-12-03 18:55:00    -0.00\n",
       "1996-12-09 12:55:00    -3.45\n",
       "1997-02-11 09:55:00    -0.00\n",
       "1997-12-05 01:55:00    -0.00\n",
       "1998-01-10 05:55:00    -0.00\n",
       "1998-02-06 15:55:00    -0.00\n",
       "1998-02-06 20:55:00    -0.00\n",
       "1998-02-06 22:55:00    -0.00\n",
       "1998-02-07 01:55:00    -0.00\n",
       "1998-03-14 19:55:00    -0.00\n",
       "1998-03-14 22:55:00    -0.00\n",
       "1998-04-17 10:55:00    -0.00\n",
       "1998-05-06 09:55:00    -0.00\n",
       "1998-05-06 15:55:00    -0.00\n",
       "1999-02-17 00:55:00    -0.00\n",
       "1999-02-17 03:55:00    -0.00\n",
       "1999-03-24 09:55:00    -0.00\n",
       "1999-03-25 13:55:00    -0.00\n",
       "1999-03-25 17:55:00    -0.00\n",
       "1999-03-25 19:55:00    -0.00\n",
       "1999-03-25 22:55:00    -0.00\n",
       "1999-03-26 02:55:00    -0.00\n",
       "1999-04-11 05:55:00    -0.00\n",
       "2000-01-18 03:15:00    -0.00\n",
       "2000-01-18 13:55:00    -0.00\n",
       "2000-01-18 15:35:00    -0.00\n",
       "2011-11-09 15:37:00   -35.65\n",
       "2013-03-07 02:35:00   -29.90\n",
       "2013-06-07 15:55:00   -11.50\n",
       "2013-12-09 14:55:00   -27.60\n",
       "2014-01-22 19:43:00    -3.45\n",
       "Name: sped, dtype: float64"
      ]
     },
     "execution_count": 51,
     "metadata": {},
     "output_type": "execute_result"
    }
   ],
   "source": [
    "# testing dip detection by inverting series\n",
    "ws_series = patc[~np.isnan(patc[\"sped\"])][\"sped\"]\n",
    "# filter out obs > 110 mph\n",
    "ws_series = ws_series[ws_series < 110] * -1\n",
    "\n",
    "# ignore PeakProper\n",
    "#with warnings.catch_warnings():\n",
    "peaks, properties = find_peaks(ws_series, prominence=25, width=(None, 5), threshold=30)\n",
    "\n",
    "ws_series[peaks]"
   ]
  },
  {
   "cell_type": "markdown",
   "metadata": {},
   "source": [
    "Note: to more easily identify dips, obviously spurious observations were removed first. The cutoff chosen is 110 mph, because 100mph, the previous cutoff, may actually be possible at some locations.\n",
    "\n",
    "Looks like this successfully identifies the dips identified in the example above. But there are couple of issues: what about 2013-06-07, where the \"dip\" is at 11.5 mph? See below, these are dips caused by the spikes! "
   ]
  },
  {
   "cell_type": "code",
   "execution_count": 52,
   "metadata": {},
   "outputs": [
    {
     "data": {
      "text/html": [
       "<div>\n",
       "<style scoped>\n",
       "    .dataframe tbody tr th:only-of-type {\n",
       "        vertical-align: middle;\n",
       "    }\n",
       "\n",
       "    .dataframe tbody tr th {\n",
       "        vertical-align: top;\n",
       "    }\n",
       "\n",
       "    .dataframe thead th {\n",
       "        text-align: right;\n",
       "    }\n",
       "</style>\n",
       "<table border=\"1\" class=\"dataframe\">\n",
       "  <thead>\n",
       "    <tr style=\"text-align: right;\">\n",
       "      <th></th>\n",
       "      <th>station</th>\n",
       "      <th>sped</th>\n",
       "      <th>drct</th>\n",
       "    </tr>\n",
       "    <tr>\n",
       "      <th>valid</th>\n",
       "      <th></th>\n",
       "      <th></th>\n",
       "      <th></th>\n",
       "    </tr>\n",
       "  </thead>\n",
       "  <tbody>\n",
       "    <tr>\n",
       "      <th>2013-06-07 03:45:00</th>\n",
       "      <td>PATC</td>\n",
       "      <td>23.00</td>\n",
       "      <td>190.0</td>\n",
       "    </tr>\n",
       "    <tr>\n",
       "      <th>2013-06-07 03:55:00</th>\n",
       "      <td>PATC</td>\n",
       "      <td>24.15</td>\n",
       "      <td>190.0</td>\n",
       "    </tr>\n",
       "    <tr>\n",
       "      <th>2013-06-07 04:55:00</th>\n",
       "      <td>PATC</td>\n",
       "      <td>87.40</td>\n",
       "      <td>80.0</td>\n",
       "    </tr>\n",
       "    <tr>\n",
       "      <th>2013-06-07 15:55:00</th>\n",
       "      <td>PATC</td>\n",
       "      <td>11.50</td>\n",
       "      <td>330.0</td>\n",
       "    </tr>\n",
       "    <tr>\n",
       "      <th>2013-06-07 16:23:00</th>\n",
       "      <td>PATC</td>\n",
       "      <td>87.40</td>\n",
       "      <td>130.0</td>\n",
       "    </tr>\n",
       "    <tr>\n",
       "      <th>2013-06-07 16:54:00</th>\n",
       "      <td>PATC</td>\n",
       "      <td>11.50</td>\n",
       "      <td>360.0</td>\n",
       "    </tr>\n",
       "    <tr>\n",
       "      <th>2013-06-07 17:50:00</th>\n",
       "      <td>PATC</td>\n",
       "      <td>24.15</td>\n",
       "      <td>170.0</td>\n",
       "    </tr>\n",
       "    <tr>\n",
       "      <th>2013-06-07 17:55:00</th>\n",
       "      <td>PATC</td>\n",
       "      <td>17.25</td>\n",
       "      <td>170.0</td>\n",
       "    </tr>\n",
       "  </tbody>\n",
       "</table>\n",
       "</div>"
      ],
      "text/plain": [
       "                    station   sped   drct\n",
       "valid                                    \n",
       "2013-06-07 03:45:00    PATC  23.00  190.0\n",
       "2013-06-07 03:55:00    PATC  24.15  190.0\n",
       "2013-06-07 04:55:00    PATC  87.40   80.0\n",
       "2013-06-07 15:55:00    PATC  11.50  330.0\n",
       "2013-06-07 16:23:00    PATC  87.40  130.0\n",
       "2013-06-07 16:54:00    PATC  11.50  360.0\n",
       "2013-06-07 17:50:00    PATC  24.15  170.0\n",
       "2013-06-07 17:55:00    PATC  17.25  170.0"
      ]
     },
     "execution_count": 52,
     "metadata": {},
     "output_type": "execute_result"
    }
   ],
   "source": [
    "patc[\"2013-06-07 03:45:00\": \"2013-06-07 18:00:00\"].drop(columns=\"gust_mph\").dropna()"
   ]
  },
  {
   "cell_type": "markdown",
   "metadata": {},
   "source": [
    "Given the potential for spikes to be more evident (no upper bound), the best thing to do is probably a 3-step process: \n",
    "1. remove the obvious spikes with strict, threshold-based peak detection criteria\n",
    "2. remove the dips by inverting the series, \n",
    "3. remove the less obvious spikes\n",
    "\n",
    "Here is the same slice of the time series after the complete peak detection and removal algo:"
   ]
  },
  {
   "cell_type": "code",
   "execution_count": 53,
   "metadata": {},
   "outputs": [
    {
     "data": {
      "text/plain": [
       "valid\n",
       "2013-06-07 03:45:00    23.00\n",
       "2013-06-07 03:55:00    24.15\n",
       "2013-06-07 15:55:00    11.50\n",
       "2013-06-07 16:54:00    11.50\n",
       "2013-06-07 17:50:00    24.15\n",
       "2013-06-07 17:55:00    17.25\n",
       "Name: sped, dtype: float64"
      ]
     },
     "execution_count": 53,
     "metadata": {},
     "output_type": "execute_result"
    }
   ],
   "source": [
    "# testing dip detection by inverting series\n",
    "ws_series = patc[~np.isnan(patc[\"sped\"])][\"sped\"]\n",
    "# filter out obs > 110 mph\n",
    "ws_series = ws_series[ws_series < 110]\n",
    "# remove obvious spikes\n",
    "obv_peaks, _ = find_peaks(ws_series, prominence=30, threshold=50)\n",
    "ws_series = ws_series.drop(ws_series.index[obv_peaks])\n",
    "# invert series, identify dips using less strict criteria\n",
    "dips, _ = find_peaks(ws_series * -1, prominence=30, threshold=35)\n",
    "ws_series = ws_series.drop(ws_series.index[dips])\n",
    "# idenitfy spikes using less strict criteria\n",
    "peaks, properties = find_peaks(ws_series, prominence=25, width=(None, 2))\n",
    "ws_series = ws_series.drop(ws_series.index[peaks[properties[\"width_heights\"] > 18]])\n",
    "\n",
    "ws_series[\"2013-06-07 03:45:00\": \"2013-06-07 18:00:00\"]"
   ]
  },
  {
   "cell_type": "markdown",
   "metadata": {},
   "source": [
    "And here is the example time series used above to demonstrate the dips:"
   ]
  },
  {
   "cell_type": "code",
   "execution_count": 54,
   "metadata": {},
   "outputs": [
    {
     "data": {
      "text/plain": [
       "valid\n",
       "1999-03-25 00:55:00    32.20\n",
       "1999-03-25 01:55:00    35.65\n",
       "1999-03-25 02:55:00    31.05\n",
       "1999-03-25 04:55:00    36.80\n",
       "1999-03-25 05:55:00    39.10\n",
       "1999-03-25 06:55:00    40.25\n",
       "1999-03-25 07:55:00    43.70\n",
       "1999-03-25 08:55:00    39.10\n",
       "1999-03-25 09:55:00    41.40\n",
       "1999-03-25 11:55:00    42.55\n",
       "1999-03-25 13:04:00    43.70\n",
       "1999-03-25 15:55:00    37.95\n",
       "1999-03-25 16:55:00    43.70\n",
       "1999-03-25 18:55:00    41.40\n",
       "1999-03-25 20:55:00    44.85\n",
       "1999-03-25 21:55:00    43.70\n",
       "1999-03-25 23:55:00    43.70\n",
       "Name: sped, dtype: float64"
      ]
     },
     "execution_count": 54,
     "metadata": {},
     "output_type": "execute_result"
    }
   ],
   "source": [
    "ws_series[\"1999-03-25\"]"
   ]
  },
  {
   "cell_type": "markdown",
   "metadata": {},
   "source": [
    "Looking good. Double check that this performs well with the other example stations, Nome and Fairbanks, by printing the observations that are identified as spurious using this complete approach. \n",
    "\n",
    "#### Nome\n",
    "\n",
    "Obvious spikes:"
   ]
  },
  {
   "cell_type": "code",
   "execution_count": 55,
   "metadata": {},
   "outputs": [
    {
     "data": {
      "text/plain": [
       "valid\n",
       "1980-03-10 19:00:00     63.25\n",
       "1980-07-31 13:00:00     63.30\n",
       "2003-04-15 20:53:00    102.35\n",
       "Name: sped, dtype: float64"
      ]
     },
     "execution_count": 55,
     "metadata": {},
     "output_type": "execute_result"
    }
   ],
   "source": [
    "# testing dip detection by inverting series\n",
    "ws_series = paom[~np.isnan(paom[\"sped\"])][\"sped\"]\n",
    "# filter out obs > 110 mph\n",
    "ws_series = ws_series[ws_series < 110]\n",
    "# remove obvious spikes\n",
    "obv_peaks, _ = find_peaks(ws_series, prominence=30, threshold=50)\n",
    "spikes = ws_series[obv_peaks]\n",
    "ws_series = ws_series.drop(spikes.index)\n",
    "# invert series, identify dips using less strict criteria\n",
    "dips, _ = find_peaks(ws_series * -1, prominence=30, threshold=35)\n",
    "try:\n",
    "    dips = ws_series[dips]\n",
    "    ws_series = ws_series.drop(dips.index)\n",
    "except:\n",
    "    None\n",
    "# idenitfy spikes using less strict criteria\n",
    "peaks, properties = find_peaks(ws_series, prominence=25, width=(None, 2))\n",
    "peaks = peaks[properties[\"width_heights\"] > 18]\n",
    "\n",
    "spikes"
   ]
  },
  {
   "cell_type": "markdown",
   "metadata": {},
   "source": [
    "Dips:"
   ]
  },
  {
   "cell_type": "code",
   "execution_count": 56,
   "metadata": {},
   "outputs": [
    {
     "data": {
      "text/plain": [
       "Series([], Name: sped, dtype: float64)"
      ]
     },
     "execution_count": 56,
     "metadata": {},
     "output_type": "execute_result"
    }
   ],
   "source": [
    "dips"
   ]
  },
  {
   "cell_type": "markdown",
   "metadata": {},
   "source": [
    "Less prominent spikes:"
   ]
  },
  {
   "cell_type": "code",
   "execution_count": 57,
   "metadata": {},
   "outputs": [
    {
     "data": {
      "text/plain": [
       "valid\n",
       "1980-01-05 21:00:00    51.75\n",
       "1980-05-04 20:00:00    55.20\n",
       "1981-01-16 16:00:00    63.30\n",
       "1981-07-27 11:00:00    57.50\n",
       "1981-10-24 05:08:00    58.65\n",
       "1982-01-29 23:14:00    64.40\n",
       "1982-02-04 23:44:00    43.70\n",
       "1997-12-10 03:53:00    37.95\n",
       "Name: sped, dtype: float64"
      ]
     },
     "execution_count": 57,
     "metadata": {},
     "output_type": "execute_result"
    }
   ],
   "source": [
    "ws_series[peaks]"
   ]
  },
  {
   "cell_type": "markdown",
   "metadata": {},
   "source": [
    "#### Fairbanks\n",
    "\n",
    "Obvious spikes:"
   ]
  },
  {
   "cell_type": "code",
   "execution_count": 58,
   "metadata": {},
   "outputs": [
    {
     "data": {
      "text/plain": [
       "valid\n",
       "1980-12-15 12:00:00    57.5\n",
       "Name: sped, dtype: float64"
      ]
     },
     "execution_count": 58,
     "metadata": {},
     "output_type": "execute_result"
    }
   ],
   "source": [
    "# testing dip detection by inverting series\n",
    "ws_series = pafa[~np.isnan(pafa[\"sped\"])][\"sped\"]\n",
    "# filter out obs > 110 mph\n",
    "ws_series = ws_series[ws_series < 110]\n",
    "# remove obvious spikes\n",
    "obv_peaks, _ = find_peaks(ws_series, prominence=30, threshold=50)\n",
    "spikes = ws_series[obv_peaks]\n",
    "ws_series = ws_series.drop(spikes.index)\n",
    "# invert series, identify dips using less strict criteria\n",
    "dips, _ = find_peaks(ws_series * -1, prominence=30, threshold=35)\n",
    "try:\n",
    "    dips = ws_series[dips]\n",
    "    ws_series = ws_series.drop(dips.index)\n",
    "except:\n",
    "    None\n",
    "# idenitfy spikes using less strict criteria\n",
    "peaks, properties = find_peaks(ws_series, prominence=25, width=(None, 2))\n",
    "peaks = peaks[properties[\"width_heights\"] > 18]\n",
    "\n",
    "spikes"
   ]
  },
  {
   "cell_type": "markdown",
   "metadata": {},
   "source": [
    "Dips:"
   ]
  },
  {
   "cell_type": "code",
   "execution_count": 59,
   "metadata": {},
   "outputs": [
    {
     "data": {
      "text/plain": [
       "Series([], Name: sped, dtype: float64)"
      ]
     },
     "execution_count": 59,
     "metadata": {},
     "output_type": "execute_result"
    }
   ],
   "source": [
    "dips"
   ]
  },
  {
   "cell_type": "markdown",
   "metadata": {},
   "source": [
    "Less obvious spikes:"
   ]
  },
  {
   "cell_type": "code",
   "execution_count": 60,
   "metadata": {},
   "outputs": [
    {
     "data": {
      "text/plain": [
       "valid\n",
       "1981-04-08 02:00:00    50.60\n",
       "1981-09-30 12:00:00    48.30\n",
       "1982-05-21 18:35:00    40.25\n",
       "1982-12-02 11:11:00    48.30\n",
       "1987-12-21 22:01:00    54.05\n",
       "Name: sped, dtype: float64"
      ]
     },
     "execution_count": 60,
     "metadata": {},
     "output_type": "execute_result"
    }
   ],
   "source": [
    "ws_series[peaks]"
   ]
  },
  {
   "cell_type": "markdown",
   "metadata": {},
   "source": [
    "So no dips were identified for Fairbanks or Nome and that is OK. It looks like the 3-step spike detection algorithm identified the same spikes found with the single step algorithm developed above that did not account for dips. \n",
    "\n",
    "Given time constraints on the project, this will have to serve as sufficient evidence that this implementation of the `scipy.signal.find_peaks` function for identifying spikes and dips for removal, while not perfect, is defensible."
   ]
  }
 ],
 "metadata": {
  "kernelspec": {
   "display_name": "wrcc-wind-tool",
   "language": "python",
   "name": "wrcc-wind-tool"
  },
  "language_info": {
   "codemirror_mode": {
    "name": "ipython",
    "version": 3
   },
   "file_extension": ".py",
   "mimetype": "text/x-python",
   "name": "python",
   "nbconvert_exporter": "python",
   "pygments_lexer": "ipython3",
   "version": "3.6.5"
  }
 },
 "nbformat": 4,
 "nbformat_minor": 4
}
