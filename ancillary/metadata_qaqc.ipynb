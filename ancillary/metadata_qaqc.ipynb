{
 "cells": [
  {
   "cell_type": "markdown",
   "id": "legitimate-television",
   "metadata": {},
   "source": [
    "\n",
    "# Metadata, QA, QC\n",
    "\n",
    "The purpose of this notebook is for ensuring the dataset underlying the WRCC aviation wind tool dataset meets SNAPs standards for metadata, quality assurance, and quality control."
   ]
  },
  {
   "cell_type": "markdown",
   "id": "coral-messenger",
   "metadata": {},
   "source": [
    "# Metadata questionnaire\n",
    "\n",
    "Timestamp:"
   ]
  },
  {
   "cell_type": "code",
   "execution_count": null,
   "id": "informal-thesis",
   "metadata": {},
   "outputs": [],
   "source": [
    "from datetime import datetime\n",
    "print(\"Created on: {}\".format(datetime.utcnow().strftime(\"%Y-%m-%d %H:%M:%S\")))"
   ]
  },
  {
   "cell_type": "markdown",
   "id": "certain-insulin",
   "metadata": {},
   "source": [
    "## Time & place\n",
    "\n",
    "#### Description of Geographic Extent\n",
    "\n",
    "These data originate from weather stations within the U.S. State of Alaska. \n",
    "\n",
    "#### Place keywords\n",
    "\n",
    "Alaska, statewide, arctic\n",
    "\n",
    "#### Bounding coordinates:\n",
    "\n",
    "This dataset is not explicitly spatially referenced, but bounding coordinates are provided from the station metadata:"
   ]
  },
  {
   "cell_type": "code",
   "execution_count": 1,
   "id": "resident-truck",
   "metadata": {},
   "outputs": [
    {
     "name": "stdout",
     "output_type": "stream",
     "text": [
      "Western bound: -185.88309 ° W\n",
      "Southern bound: 51.87796 ° N\n",
      "Eastern bound: -131.57223 ° W\n",
      "Northern bound: 71.28257 ° N\n"
     ]
    }
   ],
   "source": [
    "import os\n",
    "import pandas as pd\n",
    "\n",
    "airport_meta = pd.read_csv(\"../data/airport_meta.csv\")\n",
    "lats = airport_meta[\"lat\"].copy()\n",
    "lons = airport_meta[\"lon\"].copy()\n",
    "lons[lons > 0] = -1 * (360 - lons[lons > 0])\n",
    "\n",
    "print(\"Western bound:\", round(lons.min(), 5), \"° W\")\n",
    "print(\"Southern bound:\", round(lats.min(), 5), \"° N\")\n",
    "print(\"Eastern bound:\", round(lons.max(), 5), \"° W\")\n",
    "print(\"Northern bound:\", round(lats.max(), 5), \"° N\")"
   ]
  },
  {
   "cell_type": "markdown",
   "id": "restricted-combination",
   "metadata": {},
   "source": [
    "#### Time period"
   ]
  },
  {
   "cell_type": "code",
   "execution_count": 2,
   "id": "canadian-terminal",
   "metadata": {},
   "outputs": [
    {
     "name": "stdout",
     "output_type": "stream",
     "text": [
      "Earliest observation:  1980-01-01 00:00:00\n",
      "Latest observation:  2019-12-31 00:00:00\n"
     ]
    }
   ],
   "source": [
    "base_dir = os.getenv(\"BASE_DIR\")\n",
    "\n",
    "stations = pd.read_pickle(os.path.join(base_dir, \"stations.pickle\"))\n",
    "\n",
    "print(\"Earliest observation: \", stations[\"ts\"].min())\n",
    "print(\"Latest observation: \", stations[\"ts\"].max())"
   ]
  },
  {
   "cell_type": "markdown",
   "id": "crude-acquisition",
   "metadata": {},
   "source": [
    "## Origin\n",
    "\n",
    "### Info\n",
    "\n",
    "#### Who created the data?\n",
    "\n",
    "Kyle Redilla\n",
    "\n",
    "#### Who owns the data?\n",
    "\n",
    "Scenarios Network for Alaska + Arctic Planning\n",
    "\n",
    "#### Email\n",
    "\n",
    "kmredilla@alaska.edu\n",
    "\n",
    "#### Address\n",
    "\n",
    "2158 Koyukuk St, Fairbanks, AK 99709\n",
    "\n",
    "### Credit\n",
    "\n",
    "#### Other organizations who should get credit?\n",
    "\n",
    "NOAA NCEI collected the original data. \n",
    "\n",
    "### About\n",
    "\n",
    "#### Title\n",
    "\n",
    "Historical hourly wind data for Alaska airports\n",
    "\n",
    "#### Abstract\n",
    "\n",
    "These wind speed and direction data are the underlying data displayed in the interactive webtool at [http://snap.uaf.edu/tools/airport-winds](http://snap.uaf.edu/tools/airport-winds). Original wind speed/direction observations were made by Automated Surface Observing System (ASOS) and the Automated Weather Observing System (AWOS) stations, and we accessed these data via the [Iowa Environmental Mesonet](https://mesonet.agron.iastate.edu/request/download.phtml) (IEM). These observations were hourly in most cases, and we filtered data to routine measurements (nearest to clock hour) where measurements were more frequent than hourly to generate a true hourly dataset, save for periods of missing data. We used data from 166 weather stations located across Alaska, selected from a pool of 185 stations available in the IEM database. For inclusion in the app and this dataset, a station must have a reasonably complete record, and must have begun measurements before June 6, 2010. We applied a spike-filtering algorithm to detect spurious spikes and dips, and a changepoint detection plus quantile mapping adjustment to statistically account for the possibility of sensors changing location, height, or surroundings such that the long term (month-scale) wind regimes were affected. \n",
    "\n",
    "#### Keywords\n",
    "\n",
    "Alaska, airports, ASOS, AWOS, winds, wind speed, wind direction, quantile mapping\n",
    "\n",
    "#### Purpose\n",
    "\n",
    "These data were created by SNAP in collaboration with the Western Regional Climate Center for use in the [\"Historical Winds at Alaska Airports\" webtool](http://snap.uaf.edu/tools/airport-winds). \n",
    "\n",
    "#### File format\n",
    "\n",
    "Comma-delimited\n",
    "\n",
    "#### License\n",
    "\n",
    "[Creative Commons Attribution 4.0](https://creativecommons.org/licenses/by/4.0/)\n",
    "\n",
    "\n",
    "#### Cross reference\n",
    "\n",
    "[Historical and Projected Hourly Wind Data for Alaskan Communities, 1980-2099](http://ckan.snap.uaf.edu/dataset/historical-and-projected-hourly-wind-data-for-alaskan-communities-1980-2099)\n",
    "\n",
    "### Methods\n",
    "\n",
    "#### Protocols / methods used\n",
    "\n",
    "All data processing was done using Python. We used the [`find_peaks`](https://docs.scipy.org/doc/scipy/reference/generated/scipy.signal.find_peaks.html) function in the `signal` module of the `scipy` library to identify spurious spikes and dips in the hourly timeseries.\n",
    "\n",
    "We used the `detection.Pelt` class$^{1}$ of the `ruptures` library for detecting changepoints in the wind data time series. \n",
    "\n",
    "We used the `BiasCorrection` class of the [`bias-correction`](https://pypi.org/project/bias-correction/) library for quantile mapping adjustment of wind speed data meriting correction after changepoint analysis. \n",
    "\n",
    "##### References\n",
    "\n",
    "1. R. Killick, P. Fearnhead, and I. Eckley. Optimal detection of changepoints with a linear computational cost. Journal of the American Statistical Association, 107(500):1590–1598, 2012.\n",
    "\n",
    "#### Processing steps\n",
    "\n",
    "The complete data processing is done by the code in the `pipeline/` sub-directory of this repository: https://github.com/ua-snap/wrcc-wind-tool. A high-level overview of the processing steps taken to obtain these hosted base data:\n",
    "    \n",
    "* Download the raw ASOS/AWOS data\n",
    "* Process the raw data to clean it up (filter to hourly, remove spurious data, adjust heterogeneous time series via quantile mapping\n",
    "    \n",
    "#### Base data\n",
    "\n",
    "The IEM houses data collected by the Automated Surface Observing System network and the Automated Weather Observing System networks. We accessed wind speed (mph) and wind direction (degrees from true north) taken from all METAR observations made by all stations on the \"Alaska ASOS\" (AK_ASOS) network recorded between 1980-01-01 00:00:00 and 2019-12-31 00:00:00.\n",
    "\n",
    "## Data\n",
    "\n",
    "This dataset is a collection of .CSV files, and all of a station's data is in a single file. \n",
    "\n",
    "#### Entity\n",
    "\n",
    "The files each have three columns: \"ts\", \"ws\", and \"wd\", corresponding to the full timestamp of the clock hour nearest to the recorded observation, the adjusted wind speed, and the wind direction, respectively.\n",
    "\n",
    "Below is the printout of an example data file:"
   ]
  },
  {
   "cell_type": "code",
   "execution_count": 314,
   "id": "comic-damage",
   "metadata": {},
   "outputs": [
    {
     "name": "stdout",
     "output_type": "stream",
     "text": [
      "Example data file:  alaska_airports_hourly_winds_PAEM.csv\n"
     ]
    },
    {
     "data": {
      "text/html": [
       "<div>\n",
       "<style scoped>\n",
       "    .dataframe tbody tr th:only-of-type {\n",
       "        vertical-align: middle;\n",
       "    }\n",
       "\n",
       "    .dataframe tbody tr th {\n",
       "        vertical-align: top;\n",
       "    }\n",
       "\n",
       "    .dataframe thead th {\n",
       "        text-align: right;\n",
       "    }\n",
       "</style>\n",
       "<table border=\"1\" class=\"dataframe\">\n",
       "  <thead>\n",
       "    <tr style=\"text-align: right;\">\n",
       "      <th></th>\n",
       "      <th>ts</th>\n",
       "      <th>ws</th>\n",
       "      <th>wd</th>\n",
       "    </tr>\n",
       "  </thead>\n",
       "  <tbody>\n",
       "    <tr>\n",
       "      <th>0</th>\n",
       "      <td>1980-01-01 01:00:00</td>\n",
       "      <td>4.60</td>\n",
       "      <td>110.0</td>\n",
       "    </tr>\n",
       "    <tr>\n",
       "      <th>1</th>\n",
       "      <td>1980-01-02 01:00:00</td>\n",
       "      <td>5.75</td>\n",
       "      <td>80.0</td>\n",
       "    </tr>\n",
       "    <tr>\n",
       "      <th>2</th>\n",
       "      <td>1980-01-02 06:00:00</td>\n",
       "      <td>4.60</td>\n",
       "      <td>100.0</td>\n",
       "    </tr>\n",
       "    <tr>\n",
       "      <th>3</th>\n",
       "      <td>1980-01-02 17:00:00</td>\n",
       "      <td>5.75</td>\n",
       "      <td>100.0</td>\n",
       "    </tr>\n",
       "    <tr>\n",
       "      <th>4</th>\n",
       "      <td>1980-01-02 20:00:00</td>\n",
       "      <td>5.75</td>\n",
       "      <td>100.0</td>\n",
       "    </tr>\n",
       "    <tr>\n",
       "      <th>5</th>\n",
       "      <td>1980-01-03 01:00:00</td>\n",
       "      <td>4.60</td>\n",
       "      <td>100.0</td>\n",
       "    </tr>\n",
       "    <tr>\n",
       "      <th>6</th>\n",
       "      <td>1980-01-03 19:00:00</td>\n",
       "      <td>6.90</td>\n",
       "      <td>110.0</td>\n",
       "    </tr>\n",
       "    <tr>\n",
       "      <th>7</th>\n",
       "      <td>1980-01-03 21:00:00</td>\n",
       "      <td>9.20</td>\n",
       "      <td>110.0</td>\n",
       "    </tr>\n",
       "    <tr>\n",
       "      <th>8</th>\n",
       "      <td>1980-01-04 01:00:00</td>\n",
       "      <td>11.50</td>\n",
       "      <td>110.0</td>\n",
       "    </tr>\n",
       "    <tr>\n",
       "      <th>9</th>\n",
       "      <td>1980-01-04 03:00:00</td>\n",
       "      <td>11.50</td>\n",
       "      <td>110.0</td>\n",
       "    </tr>\n",
       "  </tbody>\n",
       "</table>\n",
       "</div>"
      ],
      "text/plain": [
       "                    ts     ws     wd\n",
       "0  1980-01-01 01:00:00   4.60  110.0\n",
       "1  1980-01-02 01:00:00   5.75   80.0\n",
       "2  1980-01-02 06:00:00   4.60  100.0\n",
       "3  1980-01-02 17:00:00   5.75  100.0\n",
       "4  1980-01-02 20:00:00   5.75  100.0\n",
       "5  1980-01-03 01:00:00   4.60  100.0\n",
       "6  1980-01-03 19:00:00   6.90  110.0\n",
       "7  1980-01-03 21:00:00   9.20  110.0\n",
       "8  1980-01-04 01:00:00  11.50  110.0\n",
       "9  1980-01-04 03:00:00  11.50  110.0"
      ]
     },
     "metadata": {},
     "output_type": "display_data"
    }
   ],
   "source": [
    "from pathlib import Path\n",
    "\n",
    "# read from ckan_data_package in BASE_DIR\n",
    "base_dir = Path(os.getenv(\"BASE_DIR\"))\n",
    "ckan_dir = base_dir.joinpath(\"ckan_data_package\")\n",
    "\n",
    "fp = list(ckan_dir.glob(\"*\"))[0]\n",
    "df = pd.read_csv(fp)\n",
    "print(\"Example data file: \", Path(fp).name)\n",
    "display(df.head(10))"
   ]
  },
  {
   "cell_type": "markdown",
   "id": "according-effectiveness",
   "metadata": {},
   "source": [
    "#### Spatial reference\n",
    "\n",
    "NA\n",
    "\n",
    "#### Attributes\n",
    "\n",
    "NA\n",
    "\n",
    "# Quality assurance, quality control\n",
    "\n",
    "## Quality assurance\n",
    "\n",
    "Demonstrate that these data are accessible by reading them from memory and creating a few summary examples.\n",
    "\n",
    "#### Plot monthly average wind speed and direction time series for Fairbanks International Airport"
   ]
  },
  {
   "cell_type": "code",
   "execution_count": 315,
   "id": "unlike-toyota",
   "metadata": {},
   "outputs": [
    {
     "data": {
      "image/png": "[encoded data removed]",
      "text/plain": [
       "<Figure size 720x216 with 1 Axes>"
      ]
     },
     "metadata": {
      "needs_background": "light"
     },
     "output_type": "display_data"
    }
   ],
   "source": [
    "import matplotlib.pyplot as plt\n",
    "\n",
    "fp = list(ckan_dir.glob(\"*PAFA*\"))[0]\n",
    "df = pd.read_csv(fp)\n",
    "df[\"ym\"] = pd.to_datetime(df[\"ts\"]).dt.to_period(\"M\")\n",
    "plt.figure(figsize=(10,3))\n",
    "df.groupby(\"ym\")[\"ws\"].mean().plot()\n",
    "plt.xlabel(\"Year\")\n",
    "plt.ylabel(\"Ang. wind speed (mph)\")\n",
    "plt.title(\"Monthly average wind speed at Fairbanks Internartional Airport (PAFA)\")\n",
    "plt.show()"
   ]
  },
  {
   "cell_type": "markdown",
   "id": "proof-omaha",
   "metadata": {},
   "source": [
    "#### Plot histograms of wind direction for Juneau Intl Airport (PAJN), Ted Stevens Anchorage International Airport (PANC), and Barter Island Long Range Radar Service Airport (PABA)"
   ]
  },
  {
   "cell_type": "code",
   "execution_count": 316,
   "id": "radical-capital",
   "metadata": {},
   "outputs": [
    {
     "data": {
      "image/png": "[encoded data removed]",
      "text/plain": [
       "<Figure size 864x216 with 3 Axes>"
      ]
     },
     "metadata": {
      "needs_background": "light"
     },
     "output_type": "display_data"
    }
   ],
   "source": [
    "def wrap_read(fp):\n",
    "    \"\"\"wrap pd.read_csv to add ICAO identifier\"\"\"\n",
    "    df = pd.read_csv(fp)\n",
    "    df[\"sid\"] = fp.split(\"_\")[-1].split(\".\")[0]\n",
    "    \n",
    "    return df\n",
    "\n",
    "fps = [str(fp).replace(\"PAFA\", icao) for icao in [\"PAJN\", \"PANC\", \"PABA\"]]\n",
    "df = pd.concat([wrap_read(fp) for fp in fps])\n",
    "\n",
    "axarr = df.hist(\"wd\", \"sid\", figsize=(12, 3), layout=(1, 3), sharex=True)\n",
    "for ax in axarr:\n",
    "    ax.set_xlabel(\"Wind direction (degress)\", labelpad=10)\n",
    "plt.show()"
   ]
  },
  {
   "cell_type": "markdown",
   "id": "vocal-survivor",
   "metadata": {},
   "source": [
    "## Quality control\n",
    "\n",
    "#### Outliers and value errors\n",
    "\n",
    "Ensure that all wind speed and direction data are within reasonable bounds. "
   ]
  },
  {
   "cell_type": "code",
   "execution_count": 509,
   "id": "heard-finland",
   "metadata": {},
   "outputs": [
    {
     "name": "stdout",
     "output_type": "stream",
     "text": [
      "Max. wind speed: 104.62\n",
      "Min. wind speed: 0.0\n",
      "Max. wind direction: 360.0\n",
      "Min. wind direction: 0.0\n"
     ]
    }
   ],
   "source": [
    "import numpy as np\n",
    "\n",
    "# read all distributed files\n",
    "fps = list(ckan_dir.glob(\"*.csv\"))\n",
    "df = pd.concat([wrap_read(str(fp)) for fp in fps])\n",
    "\n",
    "print(f\"Max. wind speed: {np.max(df['ws'].max())}\")\n",
    "print(f\"Min. wind speed: {np.min(df['ws'].min())}\")\n",
    "print(f\"Max. wind direction: {np.max(df['wd'].max())}\")\n",
    "print(f\"Min. wind direction: {np.min(df['wd'].min())}\")"
   ]
  },
  {
   "cell_type": "markdown",
   "id": "green-consent",
   "metadata": {},
   "source": [
    "#### Consistency with webapp\n",
    "\n",
    "Check that visualizations in the app match the underlying data that is being hosted. \n",
    "\n",
    "##### Summary wind rose\n",
    "\n",
    "Verify the following values for the summary wind rose of Fairbanks international Airport (PAFA):  \n",
    "  \n",
    "Calms: 40%  \n",
    "\n",
    "0-6 mph winds from N:\n",
    "* 10 degree bins: 3.75\n",
    "* 22.5 degree bins: 9.22%\n",
    "* 45 degree bins: 14.43%"
   ]
  },
  {
   "cell_type": "code",
   "execution_count": 510,
   "id": "upset-dietary",
   "metadata": {},
   "outputs": [
    {
     "name": "stdout",
     "output_type": "stream",
     "text": [
      "PAFA calms: 40%\n",
      "\n",
      "0-6 mph winds from N\n",
      "10 degree bins: 3.75%\n",
      "22.5 degree bins: 9.22%\n",
      "45 degree bins: 14.43%\n"
     ]
    }
   ],
   "source": [
    "pafa = df[df[\"sid\"] == \"PAFA\"].dropna()\n",
    "\n",
    "n = pafa[\"ws\"].shape[0]\n",
    "calms = pafa[pafa[\"ws\"] == 0][\"ws\"].shape[0] / n\n",
    "print(f\"PAFA calms: {round(calms * 100)}%\\n\")\n",
    "\n",
    "n_obs = pafa[pafa[\"ws\"] > 0].shape[0]\n",
    "\n",
    "x1 = pafa[\n",
    "    ((pafa[\"ws\"] > 0) & (pafa[\"ws\"] <= 6)) & \n",
    "    ((pafa[\"wd\"] > 356) | (pafa[\"wd\"] < 5))\n",
    "].shape[0] / n_obs\n",
    "\n",
    "x2 = pafa[\n",
    "    ((pafa[\"ws\"] > 0) & (pafa[\"ws\"] <= 6)) & \n",
    "    ((pafa[\"wd\"] > 348.75) | (pafa[\"wd\"] < 11.25))\n",
    "].shape[0] / n_obs\n",
    "\n",
    "x3 = pafa[\n",
    "    ((pafa[\"ws\"] > 0) & (pafa[\"ws\"] <= 6)) & \n",
    "    ((pafa[\"wd\"] > 337.5) | (pafa[\"wd\"] < 22.5))\n",
    "].shape[0] / n_obs\n",
    "\n",
    "print(\"0-6 mph winds from N\")\n",
    "print(f\"10 degree bins: {round(x1 * 100, 2)}%\")\n",
    "print(f\"22.5 degree bins: {round(x2 * 100, 2)}%\")\n",
    "print(f\"45 degree bins: {round(x3 * 100, 2)}%\")"
   ]
  },
  {
   "cell_type": "markdown",
   "id": "systematic-switch",
   "metadata": {},
   "source": [
    "##### Monthly wind rose\n",
    "\n",
    "Verify the following values for the February monthly wind rose for Ted Stevens Anchorage International Airport (PANC):  \n",
    "Calms: 18%  \n",
    "\n",
    "6-10 mph winds from W:\n",
    "\n",
    "* 10 degree bins: 0.28%\n",
    "* 22.5 degree bins: 0.78%\n",
    "* 45 degree bins: 1.51%"
   ]
  },
  {
   "cell_type": "code",
   "execution_count": 511,
   "id": "changed-weapon",
   "metadata": {},
   "outputs": [
    {
     "name": "stdout",
     "output_type": "stream",
     "text": [
      "PANC Feb calms: 18%\n",
      "\n",
      "6-10 mph winds from W\n",
      "10 degree bins: 0.28%\n",
      "22.5 degree bins: 0.78%\n",
      "45 degree bins: 1.51%\n"
     ]
    }
   ],
   "source": [
    "panc = df[df[\"sid\"] == \"PANC\"].dropna()\n",
    "panc[\"ts\"] = pd.to_datetime(panc[\"ts\"])\n",
    "panc[\"month\"] = panc[\"ts\"].dt.month\n",
    "panc = panc[panc[\"month\"] == 2]\n",
    "\n",
    "n = panc[\"ws\"].shape[0]\n",
    "calms = panc[panc[\"ws\"] == 0][\"ws\"].shape[0] / n\n",
    "print(f\"PANC Feb calms: {round(calms * 100)}%\\n\")\n",
    "\n",
    "n_obs = panc[panc[\"ws\"] > 0].shape[0]\n",
    "\n",
    "x1 = panc[\n",
    "    ((panc[\"ws\"] >= 6) & (panc[\"ws\"] <= 10)) & \n",
    "    ((panc[\"wd\"] > 265) & (panc[\"wd\"] < 275))\n",
    "].shape[0] / n_obs\n",
    "\n",
    "x2 = panc[\n",
    "    ((panc[\"ws\"] >= 6) & (panc[\"ws\"] <= 10)) & \n",
    "    ((panc[\"wd\"] > 258.75) & (panc[\"wd\"] < 281.25))\n",
    "].shape[0] / n_obs\n",
    "\n",
    "x3 = panc[\n",
    "    ((panc[\"ws\"] >= 6) & (panc[\"ws\"] <= 10)) & \n",
    "    ((panc[\"wd\"] > 247.5) & (panc[\"wd\"] < 292.5))\n",
    "].shape[0] / n_obs\n",
    "\n",
    "print(\"6-10 mph winds from W\")\n",
    "print(f\"10 degree bins: {round(x1 * 100, 2)}%\")\n",
    "print(f\"22.5 degree bins: {round(x2 * 100, 2)}%\")\n",
    "print(f\"45 degree bins: {round(x3 * 100, 2)}%\")"
   ]
  },
  {
   "cell_type": "markdown",
   "id": "compressed-electricity",
   "metadata": {},
   "source": [
    "##### Threshold exceedance\n",
    "\n",
    "Verify the following values for the threshold exceedance for Deadhorse Airport:\n",
    "\n",
    "Runway direction 100 degrees:\n",
    "* Class A-I and B-I: 11.78%\n",
    "* Class A-II and B-II: 4.68%\n",
    "* class A-III, B-III, C-I through C-III, D-I through D-III: 1.38%"
   ]
  },
  {
   "cell_type": "code",
   "execution_count": 513,
   "id": "second-interview",
   "metadata": {},
   "outputs": [
    {
     "name": "stdout",
     "output_type": "stream",
     "text": [
      "Results from hosting data:\n",
      "Class A-I and B-I: 11.78%\n",
      "Class A-II and B-II: 4.68%\n",
      "Class A-III, B-III, C-I through C-III, D-I through D-III: 1.38%\n"
     ]
    }
   ],
   "source": [
    "pasc = df[df[\"sid\"] == \"PASC\"].dropna()\n",
    "\n",
    "thresholds = np.round(np.array([10.5, 13, 16]) * 1.15078, 2)\n",
    "\n",
    "def crosswind_component(ws, wd, d=100):\n",
    "    import math\n",
    "    \"\"\"Compute crosswind component(s), ws and wd may be arrays\"\"\"\n",
    "    angles = ((wd - d) + 180) % 360 - 180\n",
    "    return np.round(\n",
    "        np.array([abs(math.sin(math.radians(a)) * w) for a, w in zip(angles, ws)]), 2\n",
    "    )\n",
    "\n",
    "crosswinds = crosswind_component(pasc[\"ws\"], pasc[\"wd\"])\n",
    "n = crosswinds.shape[0]\n",
    "exc = [round((crosswinds > threshold).sum() / n, 4) * 100 for threshold in thresholds]\n",
    "\n",
    "print(\"Results from hosting data:\")\n",
    "print(f\"Class A-I and B-I: {exc[0]}%\")\n",
    "print(f\"Class A-II and B-II: {exc[1]}%\")\n",
    "print(f\"Class A-III, B-III, C-I through C-III, D-I through D-III: {exc[2]}%\")"
   ]
  },
  {
   "cell_type": "markdown",
   "id": "demographic-drilling",
   "metadata": {},
   "source": [
    "##### Wind power\n",
    "\n",
    "Verify the following values for the mean monthly wind power for September at Nome Airport:\n",
    "\n",
    "Max: 1233     \n",
    "September 2019: 1140  \n",
    "Upper fence: 1041  \n",
    "Q3: 718.75  \n",
    "Median: 636  \n",
    "Q1: 472.5  \n",
    "Min: 240  "
   ]
  },
  {
   "cell_type": "code",
   "execution_count": 578,
   "id": "deadly-cinema",
   "metadata": {},
   "outputs": [
    {
     "name": "stdout",
     "output_type": "stream",
     "text": [
      "Manually calculated values:\n",
      "Max.: 1233.0\n",
      "September 2019: [1140.]\n",
      "Upper fence: 369.375\n",
      "Q3: 718.75\n",
      "Median: 636.0\n",
      "Q1: 472.5\n",
      "Min.: 240.0\n"
     ]
    }
   ],
   "source": [
    "paom = df[df[\"sid\"] == \"PAOM\"].dropna()\n",
    "paom[\"ts\"] = pd.to_datetime(paom[\"ts\"])\n",
    "paom[\"month\"] = paom[\"ts\"].dt.month\n",
    "paom[\"year\"] = paom[\"ts\"].dt.year\n",
    "paom[\"ws\"] = paom[\"ws\"].astype(np.float32) / 2.237\n",
    "# adjust for height using the log-law: https://websites.pmc.ucsc.edu/~jnoble/wind/extrap/\n",
    "# v ~ v_ref * log(z / z_0) / log(z_ref / z_0) where\n",
    "# z_0 = 0.5 (roughness length of 0.0005 for \"airport\" landscape type),\n",
    "# z_ref = 10, known speed height (10m)\n",
    "# z = 100, approx height of typical wind turbine\n",
    "# v_ref is the known speed at z_ref height\n",
    "z = 100\n",
    "z_ref = 10\n",
    "z_0 = 0.5\n",
    "paom[\"ws\"] = paom[\"ws\"] * (np.log(z / z_0) / np.log(z_ref / z_0))\n",
    "# compute wind energy potential using this:https://byjus.com/wind-energy-formula/\n",
    "# rho is air density constant\n",
    "rho = 1.23\n",
    "paom[\"wep\"] = 0.5 * rho * paom[\"ws\"] ** 3\n",
    "wep = paom.drop(columns=[\"ws\", \"wd\"])\n",
    "mean_wep = wep.groupby([\"sid\", \"year\", \"month\"]).mean().reset_index()\n",
    "mean_wep[\"wep\"] = np.round(mean_wep[\"wep\"])\n",
    "mean_wep = mean_wep[mean_wep[\"month\"] == 9]\n",
    "\n",
    "outlier_thresholds = (\n",
    "    mean_wep.groupby([\"sid\", \"month\"])[\"wep\"]\n",
    "    .std()\n",
    "    .reset_index()\n",
    "    .rename(columns={\"wep\": \"std\"})\n",
    ")\n",
    "outlier_thresholds[\"std\"] = outlier_thresholds[\"std\"] * 5\n",
    "mean_wep = mean_wep.merge(outlier_thresholds, on=[\"sid\", \"month\"])\n",
    "mean_wep = mean_wep[mean_wep[\"wep\"] < mean_wep[\"std\"]].drop(columns=\"std\")\n",
    "\n",
    "# plotly doesn't use numpy.quantile method for interpolation. \n",
    "# Someone in the Plotly community developed this function for recreating plotly's quartiles\n",
    "# https://community.plotly.com/t/boxplot-quartile-seems-wrong/2234/9\n",
    "def plotly_linear_quantiles(y, quantile):\n",
    "    \"\"\"\n",
    "        Based on #10 here: http://jse.amstat.org/v14n3/langford.html\n",
    "        METHOD 10 (“H&L-2”): The Pth percentile value is found by taking that \n",
    "        value with #(np + 0.5). If this is not an integer, take the interpolated\n",
    "        value between 'the floor' and 'the ceiling of that value'. As an example, \n",
    "        if S5 = (1, 2, 3, 4, 5) and p = 0.25, then #(np + 0.5) = #(1.75) and so Q1 = 1.75.\n",
    "        \n",
    "        args: \n",
    "        y: list to calculate quantile for\n",
    "        quantile: requested quantile value between 0 and 1\n",
    "    \"\"\"\n",
    "    # -1 because becuase we count starting at 0\n",
    "    interp_val_x = len(y)*quantile + 0.5 - 1 \n",
    "    if interp_val_x.is_integer():\n",
    "        # int() to remove decimal\n",
    "        return sorted(y)[int(interp_val_x)]\n",
    "    else:\n",
    "        return np.interp(interp_val_x, [x for x in range(len(y))], sorted(y))\n",
    "\n",
    "quartiles = [plotly_linear_quantiles(mean_wep[\"wep\"], q) for q in (0.25, .5, .75)]\n",
    "iqr = quartiles[2] - quartiles[0]\n",
    "\n",
    "print(\"Manually calculated values:\")\n",
    "print(f\"Max.: {mean_wep['wep'].max()}\")\n",
    "print(f\"September 2019: {mean_wep[mean_wep['year'] == 2019]['wep'].values[0]}\")\n",
    "print(f\"Upper fence: {quartiles[2] + (1.5 * iqr)}\")\n",
    "print(f\"Q3: {quartiles[2]}\")\n",
    "print(f\"Median: {quartiles[1]}\")\n",
    "print(f\"Q1: {quartiles[0]}\")\n",
    "print(f\"Min.: {mean_wep['wep'].min()}\")"
   ]
  },
  {
   "cell_type": "code",
   "execution_count": null,
   "id": "burning-efficiency",
   "metadata": {},
   "outputs": [],
   "source": []
  }
 ],
 "metadata": {
  "kernelspec": {
   "display_name": "Python 3",
   "language": "python",
   "name": "python3"
  },
  "language_info": {
   "codemirror_mode": {
    "name": "ipython",
    "version": 3
   },
   "file_extension": ".py",
   "mimetype": "text/x-python",
   "name": "python",
   "nbconvert_exporter": "python",
   "pygments_lexer": "ipython3",
   "version": "3.6.5"
  }
 },
 "nbformat": 4,
 "nbformat_minor": 5
}
